{
 "cells": [
  {
   "cell_type": "markdown",
   "metadata": {},
   "source": [
    "<center>\n",
    "<a href=\"http://www.insa-toulouse.fr/\" ><img src=\"http://www.math.univ-toulouse.fr/~besse/Wikistat/Images/logo-insa.jpg\" style=\"float:left; max-width: 120px; display: inline\" alt=\"INSA\"/></a> \n",
    "\n",
    "<a href=\"http://wikistat.fr/\" ><img src=\"http://www.math.univ-toulouse.fr/~besse/Wikistat/Images/wikistat.jpg\" style=\"max-width: 250px; display: inline\"  alt=\"Wikistat\"/></a>\n",
    "\n",
    "<a href=\"http://www.math.univ-toulouse.fr/\" ><img src=\"http://www.math.univ-toulouse.fr/~besse/Wikistat/Images/logo_imt.jpg\" style=\"float:right; max-width: 250px; display: inline\" alt=\"IMT\"/> </a>\n",
    "</center>"
   ]
  },
  {
   "cell_type": "markdown",
   "metadata": {},
   "source": [
    "# [Scénarios d'Exploration Statistique](https://github.com/wikistat/Exploration)"
   ]
  },
  {
   "cell_type": "markdown",
   "metadata": {},
   "source": [
    "# Exploration de données d'enquête en <a href=\"https://www.python.org/\"><img src=\"https://upload.wikimedia.org/wikipedia/commons/thumb/f/f8/Python_logo_and_wordmark.svg/390px-Python_logo_and_wordmark.svg.png\" style=\"max-width: 120px; display: inline\" alt=\"Python\"/></a>:  explication du seuil de revenu \n",
    "\n",
    "### Résumé\n",
    "Analyse de données extraites d'un recensement aux USA de 1994. Préparation des données, exploration élémentaire et multidimensionnelle ([ACP](http://wikistat.fr/pdf/st-m-explo-acp.pdf), [AFCM](http://wikistat.fr/pdf/st-m-explo-afcm.pdf)), [classification non supervisée](http://wikistat.fr/pdf/st-m-explo-classif.pdf). L'objectif est de préparer l'[étape suivante](https://github.com/wikistat/Apprentissage/tree/master/Adult-Census) consistant à modéliser / prévoir le niveau de revenu."
   ]
  },
  {
   "cell_type": "markdown",
   "metadata": {},
   "source": [
    "## Introduction\n",
    "Des données publiques disponibles sur le site [UCI repository](http://archive.ics.uci.edu/ml/) sont extraites de la base de données issue du recensement réalisé aux Etats Unis en 1994. Ces données son largement utilisées et font référence comme outil de *benchmark* pour comparer les performances de méthodes d’apprentissage ou modélisation statistique. L’objectif est alors de prévoir la variable binaire « revenu annuel » supérieur ou inférieur à 50k$. Le travail décrit dans ce document est un préalable, il propose une exploration des données pour en appréhender les grandes structures. Il ne s’agit pas encore de données massives mais 32.561 individus sont décrits par les 14 variables du tableau ci-dessous :\n",
    "\n",
    "Num| Libellé |\tEnsemble de valeurs\n",
    "-|--|--|--\n",
    "1|`Age`|\treal\n",
    "2|\t`workClass`|\tPrivate, Self-emp-not-inc, Self-emp-inc, Federal-gov, Local-gov, State-gov, Without-pay, Never-worked\n",
    "3|\t`fnlwgt`|\treal\n",
    "4|\t`education`|\tBachelors, Some-college, 11th, HS-grad, Prof-school, Assoc-acdm, Assoc-voc, 9th, 7th-8th, 12th, Masters, 1st-4th, 10th, Doctorate, 5th-6th, Preschool\n",
    "5|\t`educNum`|\tinteger\n",
    "6|\t`mariStat`|\tMarried-civ-spouse, Divorced, Never-married, Separated, Widowed, Married-spouse-absent, Married-AF-spouse\n",
    "7|\t`occup`|\tTech-support, Craft-repair, Other-service, Sales, Exec-managerial, Prof-specialty, Handlers-cleaners, Machine-op-inspct, Adm-clerical, Farming-fishing, Transport-moving, Priv-house-serv, Protective-serv, Armed-Forces\n",
    "8|\t`relationship`|\tWife, Own-child, Husband, Not-in-family, Other-relative, Unmarried\n",
    "9|\t`origEthn`|\tWhite, Asian-Pac-Islander, Amer-Indian-Eskimo, Other, Black\n",
    "10|\t`sex`|\tFemale, Male\n",
    "11|\t`capitalGain`|\treal  \n",
    "12|\t`capitalLoss`|\treal\n",
    "13|\t`hoursWeek`|\treal\n",
    "14|\t`nativCountry`|\tUnited-States, Cambodia, England, Puerto-Rico, Canada, Germany, Outlying-US(Guam-USVI-etc), India, Japan, Greece, South, China, Cuba, Iran, Honduras, Philippines, Italy, Poland, Jamaica, Vietnam, Mexico, Portugal, Ireland, France, Dominican-Republic, Laos, Ecuador, Taiwan, Haiti, Columbia, Hungary, Guatemala, Nicaragua, Scotland, Thailand, Yugoslavia, El-Salvador, Trinadad&Tobago, Peru, Hong, Holand-Netherlands\n",
    "15|\t`income`|\t\t>50K, <=50K\n",
    "\n",
    "Une première étape permet de vérifier, sélectionner, recoder les données, avant d’aborder des outils plus élaborés. Les questions suivent la chronologie de ce déroulement.\n",
    "\n",
    "La deuxième étape cherchant un meilleur modèle de prévision du dépassement de seuil de revenu est détaillée dans un [scénario](https://github.com/wikistat/Apprentissage/tree/master/Adult-Census) de la [saison 3: Apprentissage](https://github.com/wikistat/Apprentissage).\n",
    "\n",
    "\n",
    "**Répondre aux questions en s'aidant des résultats des exécutions**."
   ]
  },
  {
   "cell_type": "markdown",
   "metadata": {},
   "source": [
    "## 1 Préparation des données\n"
   ]
  },
  {
   "cell_type": "code",
   "execution_count": null,
   "metadata": {},
   "outputs": [],
   "source": [
    "%matplotlib inline\n",
    "import pandas as pd\n",
    "import numpy as np\n",
    "import matplotlib.pyplot as plt\n",
    "import seaborn as sns\n",
    "pd.options.mode.chained_assignment = None  # default='warn'"
   ]
  },
  {
   "cell_type": "code",
   "execution_count": null,
   "metadata": {
    "scrolled": true
   },
   "outputs": [],
   "source": [
    "#Lecture\n",
    "listeVar=['Age','workClass', 'fnlwgt', 'education', 'educNum', 'mariStat', 'occup', 'relationship',\n",
    "          'origEthn', 'sex', 'capitalGain', 'capitalLoss', 'hoursWeek', 'nativCountry', 'income']\n",
    "\n",
    "path=\"https://www.math.univ-toulouse.fr/~besse/Wikistat/data/adultCensus.dat\"\n",
    "dataBase = pd.read_csv(path, sep=',', header=None, index_col=False, names=listeVar,dtype={\"workClass\":object,\"education\":object,\"mariStat\":object,\"occup\":object,\"relationship\":object,\"origEthn\":object,\"sex\":object,\"nativCountry\":object,\"income\":object})\n",
    "dataBase.head()"
   ]
  },
  {
   "cell_type": "markdown",
   "metadata": {},
   "source": [
    "Pour chaque variable qualitative, on renomme les modalités afin de pouvoir les manipuler plus facilement. Durant cette manipulation, on regroupe certaines modalités afin de ne plus avoir des modalités à trop faible effectif."
   ]
  },
  {
   "cell_type": "code",
   "execution_count": null,
   "metadata": {},
   "outputs": [],
   "source": [
    "#dataBase[\"workClass\"]=pd.Categorical(dataBase[\"workClass\"],ordered=False)\n",
    "#dataBase[\"education\"]=pd.Categorical(dataBase[\"education\"],ordered=False)\n",
    "#dataBase[\"mariStat\"]=pd.Categorical(dataBase[\"mariStat\"],ordered=False)\n",
    "#dataBase[\"occup\"]=pd.Categorical(dataBase[\"occup\"],ordered=False)\n",
    "#dataBase[\"relationship\"]=pd.Categorical(dataBase[\"relationship\"],ordered=False)\n",
    "#dataBase[\"origEthn\"]=pd.Categorical(dataBase[\"origEthn\"],ordered=False)\n",
    "#dataBase[\"sex\"]=pd.Categorical(dataBase[\"sex\"],ordered=False)\n",
    "#dataBase[\"nativCountry\"]=pd.Categorical(dataBase[\"nativCountry\"],ordered=False)\n",
    "#dataBase[\"income\"]=pd.Categorical(dataBase[\"income\"],ordered=False)\n",
    "dataBase.dtypes"
   ]
  },
  {
   "cell_type": "code",
   "execution_count": null,
   "metadata": {},
   "outputs": [],
   "source": [
    "#workClass \n",
    "cat_workClass={\" federal-gov\": \"Federal-Govt\",\n",
    "               \" local-gov\": \"Other-Govt\",\n",
    "               \" state-gov\": \"Other-Govt\",\n",
    "               \" private\": \"Private\",\n",
    "               \" self-emp-inc\": \"Self-Employed\",\n",
    "               \" self-emp-not-inc\": \"Self-Employed\",\n",
    "               \" without-pay\": \"Not-Working\",\n",
    "               \" never-worked\": \"Not-Working\"}\n",
    "dataBase[\"workClass\"]=dataBase.workClass.map(str.lower).map(cat_workClass)"
   ]
  },
  {
   "cell_type": "code",
   "execution_count": null,
   "metadata": {},
   "outputs": [],
   "source": [
    "#education\n",
    "cat_education={\" 10th\": \"Dropout\",\n",
    "               \" 11th\": \"Dropout\",\n",
    "               \" 12th\": \"Dropout\",\n",
    "               \" 1st-4th\":\"Dropout\",\n",
    "               \" 5th-6th\": \"Dropout\",\n",
    "               \" 7th-8th\": \"Dropout\",\n",
    "               \" 9th\": \"Dropout\",\n",
    "               \" assoc-acdm\": \"Associates\",\n",
    "               \" assoc-voc\": \"Associates\",\n",
    "               \" bachelors\": \"Bachelors\",\n",
    "               \" doctorate\": \"Doctorate\",\n",
    "               \" hs-grad\": \"HS-Graduate\",\n",
    "               \" masters\": \"Masters\",\n",
    "               \" preschool\": \"Dropout\",\n",
    "               \" prof-school\": \"Prof-School\",\n",
    "               \" some-college\": \"HS-Graduate\"}\n",
    "dataBase[\"education\"]=dataBase.education.map(str.lower).map(cat_education)"
   ]
  },
  {
   "cell_type": "code",
   "execution_count": null,
   "metadata": {},
   "outputs": [],
   "source": [
    "#mariStat\n",
    "cat_mariStat={\" never-married\" : \"Never-Married\",\n",
    "              \" married-af-spouse\" : \"Married\",\n",
    "              \" married-civ-spouse\" : \"Married\",\n",
    "              \" married-spouse-absent\" : \"Not-Married\",\n",
    "              \" separated\" : \"Not-Married\",\n",
    "              \" divorced\" : \"Not-Married\",\n",
    "              \" widowed\" : \"Widowed\"\n",
    "             }\n",
    "dataBase[\"mariStat\"]=dataBase.mariStat.map(str.lower).map(cat_mariStat)"
   ]
  },
  {
   "cell_type": "code",
   "execution_count": null,
   "metadata": {},
   "outputs": [],
   "source": [
    "#occup\n",
    "cat_occup={\" adm-clerical\": \"Admin\",\n",
    "           #\" armed-forces\": \"Military\",\n",
    "           \" craft-repair\": \"Blue-Collar\",\n",
    "           \" exec-managerial\": \"White-Collar\",\n",
    "           \" farming-fishing\": \"Blue-Collar\",\n",
    "           \" handlers-cleaners\": \"Blue-Collar\",\n",
    "           \" machine-op-inspct\": \"Blue-Collar\",\n",
    "           \" other-service\": \"Service\",\n",
    "           \" priv-house-serv\": \"Service\",\n",
    "           \" prof-specialty\": \"Professional\",\n",
    "           \" protective-serv\": \"Other-occups\",\n",
    "           \" sales\": \"Sales\",\n",
    "           \" tech-support\": \"Other-occups\",\n",
    "           \" transport-moving\": \"Blue-Collar\",\n",
    "          }\n",
    "dataBase[\"occup\"]=dataBase.occup.map(str.lower).map(cat_occup)\n",
    "#dataBase[\"occup\"]=dataBase[\"occup\"].replace(\"Miltary\",np.nan)"
   ]
  },
  {
   "cell_type": "markdown",
   "metadata": {},
   "source": [
    "On n'incorpore pas militaire dans le dictionaire des `occup`. La profession sera alors \"Nan\" dans la dataframe et sera supprimée par la suite. "
   ]
  },
  {
   "cell_type": "code",
   "execution_count": null,
   "metadata": {},
   "outputs": [],
   "source": [
    "#origEthn\n",
    "cat_origEthn={\" white\": \"White\",\n",
    "              \" black\": \"Black\",\n",
    "              \" amer-indian-eskimo\": \"Amer-Indian\",\n",
    "              \" asian-pac-islander\": \"Asian\",\n",
    "              \" other\": \"Other\"\n",
    "             }\n",
    "dataBase[\"origEthn\"]=dataBase.origEthn.map(str.lower).map(cat_origEthn)"
   ]
  },
  {
   "cell_type": "code",
   "execution_count": null,
   "metadata": {},
   "outputs": [],
   "source": [
    "#nativCountry\n",
    "cat_nativCountry={\" cambodia\": \"SE-Asia\",\n",
    "                  \" canada\": \"British-Commonwealth\",\n",
    "                  \" china\": \"China\",\n",
    "                  \" columbia\": \"South-America\",\n",
    "                  \" cuba\": \"Other\",\n",
    "                  \" dominican-republic\": \"Latin-America\",\n",
    "                  \" ecuador\": \"South-America\",\n",
    "                  \" el-salvador\": \"South-America\",\n",
    "                  \" england\": \"British-Commonwealth\",\n",
    "                  \" france\": \"Euro_1\",\n",
    "                  \" germany\": \"Euro_1\",\n",
    "                  \" greece\": \"Euro_2\",\n",
    "                  \" guatemala\": \"Latin-America\",\n",
    "                  \" haiti\": \"Latin-America\",\n",
    "                  \" holand-netherlands\": \"Euro_1\",\n",
    "                  \" honduras\": \"Latin-America\",\n",
    "                  \" hong\": \"China\",\n",
    "                  \" hungary\": \"Euro_2\",\n",
    "                  \" india\": \"British-Commonwealth\",\n",
    "                  \" iran\": \"Other\",\n",
    "                  \" ireland\": \"British-Commonwealth\",\n",
    "                  \" italy\": \"Euro_1\",\n",
    "                  \" jamaica\": \"Latin-America\",\n",
    "                  \" japan\": \"Other\",\n",
    "                  \" laos\": \"SE-Asia\",\n",
    "                  \" mexico\": \"Latin-America\",\n",
    "                  \" nicaragua\": \"Latin-America\",\n",
    "                  \" outlying-us(guam-usvi-etc)\": \"Latin-America\",\n",
    "                  \" peru\": \"South-America\",\n",
    "                  \" philippines\": \"SE-Asia\",\n",
    "                  \" poland\": \"Euro_2\",\n",
    "                  \" portugal\": \"Euro_2\",\n",
    "                  \" puerto-rico\": \"Latin-America\",\n",
    "                  \" scotland\": \"British-Commonwealth\",\n",
    "                  \" south\": \"Euro_2\",\n",
    "                  \" taiwan\": \"China\",\n",
    "                  \" thailand\": \"SE-Asia\",\n",
    "                  \" trinadad&tobago\": \"Latin-America\",\n",
    "                  \" united-states\": \"United-States\",\n",
    "                  \" vietnam\": \"SE-Asia\",\n",
    "                  \" yugoslavia\": \"Euro_2\"\n",
    "                 }\n",
    "dataBase[\"nativCountry\"]=dataBase.nativCountry.map(str.lower).map(cat_nativCountry)"
   ]
  },
  {
   "cell_type": "markdown",
   "metadata": {},
   "source": [
    "L'utilisation de \"map\" pour le regroupement des variables nous permet de remplacer automatiquement la valeur des variables des individus possédant un \"?\" par des \"NaN\". Cependant, une option lors de l'importation des données aurait pu nous permettre de corriger ce problème directement."
   ]
  },
  {
   "cell_type": "code",
   "execution_count": null,
   "metadata": {},
   "outputs": [],
   "source": [
    "dataBase[\"capitalGain\"].hist(bins=20)\n",
    "plt.show()\n",
    "dataBase[\"capitalLoss\"].hist(bins=20)\n",
    "plt.show()"
   ]
  },
  {
   "cell_type": "markdown",
   "metadata": {},
   "source": [
    "Pour les variables \"capitalGain\" et \"capitalLoss\", la distribution est biaisée à droite car il y a quelques valeurs avec une très grande abscisse et donc éloignées de la majorité des valeurs. Nous effectuons donc une transformation logarithmique afin de rapprocher ces valeurs extrêmes."
   ]
  },
  {
   "cell_type": "code",
   "execution_count": null,
   "metadata": {},
   "outputs": [],
   "source": [
    "#LcapitalGain et LcapitalLoss\n",
    "dataBase[\"LcapitalGain\"]=np.log(1+dataBase[\"capitalGain\"])\n",
    "dataBase[\"LcapitalLoss\"]=np.log(1+dataBase[\"capitalLoss\"])"
   ]
  },
  {
   "cell_type": "code",
   "execution_count": null,
   "metadata": {},
   "outputs": [],
   "source": [
    "dataBase[\"LcapitalGain\"].hist(bins=20)\n",
    "plt.show()\n",
    "dataBase[\"LcapitalLoss\"].hist(bins=20)\n",
    "plt.show()"
   ]
  },
  {
   "cell_type": "markdown",
   "metadata": {},
   "source": [
    "On observe bien le rapprochement des valeurs extrêmes."
   ]
  },
  {
   "cell_type": "markdown",
   "metadata": {},
   "source": [
    "Ensuite, on transforme les variables quantitatives \"capitalGain\" et \"capitalLoss\" en variables qualitatives à 3 modalités, obtenues à partir du calcul de la médiane. Si les variables ont des valeurs négatives, elles seront placées dans la catégorie \"None\". Si elles sont comprises entre 0 et la médiane des valeurs positives, elles seront placées dans la catégorie \"cgLow\". Sinon, elles sont placées dans la catégorie \"cgHigh\"."
   ]
  },
  {
   "cell_type": "code",
   "execution_count": null,
   "metadata": {},
   "outputs": [],
   "source": [
    "#capitalGain et capitalLoss\n",
    "import math\n",
    "dataBase[\"capitalGain\"]=pd.cut(dataBase.capitalGain,bins=[-math.inf,0,np.median(dataBase.capitalGain[dataBase.capitalGain>0]),+math.inf],labels=[\"None\", \"cgLow\", \"cgHigh\"])\n",
    "dataBase[\"capitalLoss\"]=pd.cut(dataBase.capitalLoss,bins=[-math.inf,0,np.median(dataBase.capitalLoss[dataBase.capitalLoss>0]),+math.inf],labels=[\"None\", \"cgLow\", \"cgHigh\"])"
   ]
  },
  {
   "cell_type": "markdown",
   "metadata": {},
   "source": [
    "On transforme la variable \"income\" pour avoir des modalités plus éclairantes pour l'analyse."
   ]
  },
  {
   "cell_type": "code",
   "execution_count": null,
   "metadata": {},
   "outputs": [],
   "source": [
    "dataBase[\"income\"]=np.where(dataBase[\"income\"]==\" <=50K\",\"incLow\",\"incHigh\")"
   ]
  },
  {
   "cell_type": "markdown",
   "metadata": {},
   "source": [
    "On crée une nouvelle variable qualitative \"ageQ\", qui à partir de la variable \"Age\", situe un individu dans des modalités suivantes : \"Ag1\",\"Ag2\",\"Ag3\",\"Ag4\",\"Ag5\". On souhaite avoir le même effectif pour chaque modalité, on utilise la fonction \"qcut\" utilisant les quantiles."
   ]
  },
  {
   "cell_type": "code",
   "execution_count": null,
   "metadata": {},
   "outputs": [],
   "source": [
    "dataBase[\"ageQ\"]=pd.qcut(dataBase.Age,q=5,labels=[\"Ag1\",\"Ag2\",\"Ag3\",\"Ag4\",\"Ag5\"]) "
   ]
  },
  {
   "cell_type": "markdown",
   "metadata": {},
   "source": [
    "On crée une nouvelle variable qualitative \"hoursWeekQ\", qui à partir de la variable \"hoursWeek\", situe un individu dans des modalités suivantes : \"HW1\",\"HW2\",\"HW3\"."
   ]
  },
  {
   "cell_type": "code",
   "execution_count": null,
   "metadata": {},
   "outputs": [],
   "source": [
    "dataBase[\"hoursWeekQ\"]=pd.cut(dataBase.hoursWeek,bins=[0,39,41,100],labels=[\"HW1\",\"HW2\",\"HW3\"])"
   ]
  },
  {
   "cell_type": "markdown",
   "metadata": {},
   "source": [
    "On supprime les individus possédant des variables de valeur NaN."
   ]
  },
  {
   "cell_type": "code",
   "execution_count": null,
   "metadata": {},
   "outputs": [],
   "source": [
    "dataBase = dataBase.dropna(axis=0)"
   ]
  },
  {
   "cell_type": "code",
   "execution_count": null,
   "metadata": {},
   "outputs": [],
   "source": [
    "dataBase"
   ]
  },
  {
   "cell_type": "markdown",
   "metadata": {},
   "source": [
    "## 2 Description\n",
    "**Q** Quelle est la population étudiée ? Quel est l’échantillon ?\n",
    "\n",
    "**Q** Commenter, justifier les différentes transformations opérées. Repérer les variables quantitatives, qualitatives. Certaines (`age`, `hoursWeek`) sont présentes sous les deux types. Beaucoup de modalités on déjà été regroupées, notamment celles de `nativCountry` (voir le programme) certaines variables sont rendues qualitatives (`capitalLoss` ou `Gain`)."
   ]
  },
  {
   "cell_type": "markdown",
   "metadata": {},
   "source": [
    "La popoulation étudiée est la population recensée aux Etats-Unis en 1994. L'échantillon que l'on va utiliser est celui des 30162 individus obtenus après nettoyage. \n",
    "\n",
    "Les regroupements de modalités ou modifications de classe ont été expliquées au fur et à mesure du nettoyage. "
   ]
  },
  {
   "cell_type": "code",
   "execution_count": null,
   "metadata": {},
   "outputs": [],
   "source": [
    "dataBase.dtypes"
   ]
  },
  {
   "cell_type": "code",
   "execution_count": null,
   "metadata": {},
   "outputs": [],
   "source": [
    "dataBase.describe()"
   ]
  },
  {
   "cell_type": "code",
   "execution_count": null,
   "metadata": {},
   "outputs": [],
   "source": [
    "f, (ax_box, ax_hist) = plt.subplots(2, sharex=True, gridspec_kw={\"height_ratios\": (.15, .85)})\n",
    "\n",
    "sns.boxplot(dataBase[\"LcapitalGain\"], ax=ax_box)\n",
    "sns.distplot(dataBase[\"LcapitalGain\"], norm_hist=True, ax=ax_hist,kde=False)\n",
    "\n",
    "ax_box.set(xlabel='')\n",
    "ax_hist.set(xlabel='log(1+CapitalGain)')"
   ]
  },
  {
   "cell_type": "markdown",
   "metadata": {},
   "source": [
    "**Q** Quels sont ces graphiques? Que dire de la transformation  opérée ? La variable CapitalLoss subit le même traitement."
   ]
  },
  {
   "cell_type": "markdown",
   "metadata": {},
   "source": [
    "Ce sont un boxplot et un histogramme de la variable LcapitalGain (=log(1+CapitalGain)). La transformation logarithmique effectuée permet de réduire la dispersion de la variable."
   ]
  },
  {
   "cell_type": "markdown",
   "metadata": {},
   "source": [
    "Certains couples de variables posent des problèmes. "
   ]
  },
  {
   "cell_type": "code",
   "execution_count": null,
   "metadata": {},
   "outputs": [],
   "source": [
    "pd.crosstab(dataBase[\"relationship\"],dataBase[\"sex\"])"
   ]
  },
  {
   "cell_type": "code",
   "execution_count": null,
   "metadata": {},
   "outputs": [],
   "source": [
    "pd.crosstab(dataBase[\"education\"],dataBase[\"educNum\"])"
   ]
  },
  {
   "cell_type": "code",
   "execution_count": null,
   "metadata": {},
   "outputs": [],
   "source": [
    "pd.crosstab(dataBase[\"mariStat\"],dataBase[\"relationship\"])"
   ]
  },
  {
   "cell_type": "code",
   "execution_count": null,
   "metadata": {},
   "outputs": [],
   "source": [
    "pd.crosstab(dataBase[\"origEthn\"],dataBase[\"nativCountry\"])"
   ]
  },
  {
   "cell_type": "markdown",
   "metadata": {},
   "source": [
    "**Q** Quel est ce problème général ? Qu’est-ce qui va se passer si on en calcule l’analyse des correspondances ? Quel est le problème plus spécifique des variables `relationship` et `sex`?"
   ]
  },
  {
   "cell_type": "markdown",
   "metadata": {},
   "source": [
    "Le problème générale est la redondance de certaines informations. \n",
    "\n",
    "En effet, on a par exemple, pour le tableau entre `educNum` et `education`, beaucoups de cellules d'effectif nul. Pour les relations entre le `relationship` et `mariStat` les composantes `married`,`husband` et `wife` regroupent toutes la même information. Pour le tableau recoupant `origEthn` et `nativCountry`, certaines cellules présentent des effectifs très faibles et sont donc non significatives. \n",
    "\n",
    "Il faudra faire attention à n'utiliser qu'une des deux variables de chaque couple lors de l'analyse de correspondances afin d'éviter la redondance.\n",
    "\n",
    "Le problème spécifique des variables `relationship` et `sex` est le fait qu'il y ait une femme dans la catégorie époux et un homme dans la catégorie épouse."
   ]
  },
  {
   "cell_type": "code",
   "execution_count": null,
   "metadata": {},
   "outputs": [],
   "source": [
    "from statsmodels.graphics.mosaicplot import mosaic\n",
    "fig, ax = plt.subplots(figsize=(20,20))\n",
    "mosaic(dataBase,[\"sex\",\"occup\"],ax) \n",
    "plt.show()"
   ]
  },
  {
   "cell_type": "markdown",
   "metadata": {},
   "source": [
    "**Q** Quel graphique ci-dessus?  Quelle interprétation ? Quel est le test ci-dessous ? Que doit vérifier la table pour que ce test soit valide ? Quelle est l’hypothèse H0 testée ? Conclusion."
   ]
  },
  {
   "cell_type": "markdown",
   "metadata": {},
   "source": [
    "C'est un mosaique plot de la table de contingence entre les variables `sex` et `occup`. La superficie de chaque case est proportionnelle à l'effectif de la cellule associée. On observe alors que certaines catégories de métiers sont plus exercées par des hommes (`blue-Collar`=ouvrier) et d'autres par des femmes (`admin`). De plus, cela met en évidence les métiers les plus exercés au sein d'un même sexe."
   ]
  },
  {
   "cell_type": "code",
   "execution_count": null,
   "metadata": {},
   "outputs": [],
   "source": [
    "from scipy.stats import chi2_contingency\n",
    "\n",
    "chi2=chi2_contingency(pd.crosstab(dataBase[\"sex\"],dataBase[\"occup\"]))\n",
    "print(\"test statistic : \",chi2[0])\n",
    "print(\"p-value : \",chi2[1])"
   ]
  },
  {
   "cell_type": "markdown",
   "metadata": {},
   "source": [
    "Ce test est un test du Chi2. Il teste la liaison ou non entre les deux variables qualitatives `sex` et `occup` (H0 : les deux variables sont indépendantes en probabilité). Pour que ce test soit valide, il faut que tous les individus présentent une modalité et une seule et que chaque modalité soit observée au moins une fois.\n",
    "\n",
    "La p-valeur de ce test étant nulle, on rejette H0, on considère donc que les deux variables sont liées."
   ]
  },
  {
   "cell_type": "markdown",
   "metadata": {},
   "source": [
    "**Q** Quel est le graphique ci-dessous? Comment interpréter? Quel test permettrait de confirmer ? Que dire de l’intérêt de cette variable [fnlwgt](http://web.cs.wpi.edu/~cs4341/C00/Projects/fnlwgt) (Final sampling weight)?"
   ]
  },
  {
   "cell_type": "code",
   "execution_count": null,
   "metadata": {},
   "outputs": [],
   "source": [
    "fig, ax = plt.subplots(figsize=(20,10))\n",
    "dataBase.boxplot('fnlwgt','income',ax)"
   ]
  },
  {
   "cell_type": "markdown",
   "metadata": {},
   "source": [
    "Ce graphique est le boxplot de la variable `fnlwgt` expliquée en fonction de la variable `income` (revenus discretisés en 2 modalités). Les boxplots semblent relativement identiques, on peut donc supposer qu'il n'y a pas de liaisons entre ces deux variables. Pour confirmer cette hypothèse, on peut effectuer un test du chi2. \n",
    "\n",
    "**%%%%%%%%%%%%%%%A VERIFIER + REPONDRE A Q%%%%%%%%%%%%%%%%%%%%%%%**"
   ]
  },
  {
   "cell_type": "markdown",
   "metadata": {},
   "source": [
    "**Q** Que dire dans la figure ci-dessous de la liaison entre les variables `educNum` et `age` et de la localisation des points noirs (>50k€) par rapport aux rouges (<50k€)."
   ]
  },
  {
   "cell_type": "code",
   "execution_count": null,
   "metadata": {},
   "outputs": [],
   "source": [
    "color_income = dataBase[\"income\"].map({\"incLow\" : 'r', \"incHigh\" : \"black\"})\n",
    "fig, ax = plt.subplots(figsize=(20,10))\n",
    "plt.scatter(x=dataBase[\"Age\"],y=dataBase[\"educNum\"],c=color_income)\n",
    "ax.set_xlabel(\"Age\",size=25)\n",
    "ax.set_ylabel(\"educNum\",size=25)"
   ]
  },
  {
   "cell_type": "markdown",
   "metadata": {},
   "source": [
    "Il ne semble pas ya avoir de liaisons entre les variables `educNum` et `age`. En effet, les points sont plutôt répartis et on ne voit pas de tendance apparaître.\n",
    "\n",
    "On observe que le nombre de points noirs augmente avec le nombre d'années d'études. Les revenus augmentent avec le nombre d'années passées sur les bancs de l'école. De plus, on observe que le revenu augmente également avec l'âge, ce qui correspondrait aux agmentations acquises avec l'expérience professionelle. "
   ]
  },
  {
   "cell_type": "markdown",
   "metadata": {},
   "source": [
    "## 3 Analyse en composantes principales"
   ]
  },
  {
   "cell_type": "markdown",
   "metadata": {},
   "source": [
    "**Q** Quelle est le graphe ci-dessous? Quel est le cercle?  A quoi sert-il ?"
   ]
  },
  {
   "cell_type": "code",
   "execution_count": null,
   "metadata": {},
   "outputs": [],
   "source": [
    "import sklearn.decomposition as sd\n",
    "import sklearn.preprocessing as sp\n",
    "\n",
    "pca = sd.PCA()\n",
    "data = dataBase[[\"Age\",\"fnlwgt\",\"educNum\",\"hoursWeek\",\"LcapitalGain\",\"LcapitalLoss\"]]\n",
    "C = pca.fit_transform(sp.scale(data))"
   ]
  },
  {
   "cell_type": "code",
   "execution_count": null,
   "metadata": {},
   "outputs": [],
   "source": [
    "# coordonnées des variables\n",
    "coord1=pca.components_[0]*np.sqrt(pca.explained_variance_[0])\n",
    "coord2=pca.components_[1]*np.sqrt(pca.explained_variance_[1])\n",
    "fig = plt.figure(figsize=(8,8))\n",
    "ax = fig.add_subplot(1, 1, 1)\n",
    "for i, j, nom in zip(coord1,coord2, data.columns):\n",
    "    plt.text(i, j, nom)\n",
    "    plt.arrow(0,0,i,j,color='r')\n",
    "plt.axis((-1.2,1.2,-1.2,1.2))\n",
    "# cercle\n",
    "c=plt.Circle((0,0), radius=1, color='b', fill=False)\n",
    "ax.add_patch(c)\n",
    "ax.set_xlabel(\"Dim1 : \" + str(round(pca.explained_variance_ratio_[:10][0]*100,2))+ \"%\" ,size=25)\n",
    "ax.set_ylabel(\"Dim2 : \" + str(round(pca.explained_variance_ratio_[:10][1]*100,2)) + \"%\",size=25)\n",
    "ax.set_title(\"ACP des deux premières composantes\",size=25)\n",
    "plt.show()"
   ]
  },
  {
   "cell_type": "markdown",
   "metadata": {},
   "source": [
    "Le graphe représente l'ACP des deux premières composantes principales. Avant de réaliser notre ACP, nous avons réduits nos données à la même échelles afin de pouvoir les placer sur le cercle des corrélations. Plus la variable se rapproche du cercle plus elle est bien représentée dans le plan factoriel et permet donc d'expliquer les composantes principales. \n",
    "\n",
    "Le premier axe représente le nomrbe d'année d'études + l'age + le nombre d'heures travaillées par semaine.\n",
    "Le second axe représente le différence entre le capital perdu et le capital gagné sur les investissements en bourse. "
   ]
  },
  {
   "cell_type": "markdown",
   "metadata": {},
   "source": [
    "**Q** La représentation ci-dessous montre un artefact avec 3 paquets d’individus. A quoi est dû cet artéfact ? Est-il utile à la compréhension des données ? "
   ]
  },
  {
   "cell_type": "code",
   "execution_count": null,
   "metadata": {},
   "outputs": [],
   "source": [
    "fig, ax = plt.subplots(figsize=(20,10))\n",
    "ax.scatter(C[:,0], C[:,1])\n",
    "ax.set_xlabel(\"PC1\" ,size=25)\n",
    "ax.set_ylabel(\"PC2\",size=25)\n",
    "ax.set_title(\"Projection des individus dans le premier plan\",size=25)"
   ]
  },
  {
   "cell_type": "markdown",
   "metadata": {},
   "source": [
    "On observe trois groupes d'individus, ceux qui gagnent de l'argent en investissant en bourse en haut, ceux qui perdent de l'argent en investissant en bourse en bas et ceux qui n'investissent pas au centre.    \n",
    "Cette représentation en 3 groupes provient de l'explication du second axe de l'ACP.\n",
    "\n",
    "Ce graphe n'est pas particulièrement utile à la compréhension des données, il met en évidence un comportement logique. "
   ]
  },
  {
   "cell_type": "markdown",
   "metadata": {},
   "source": [
    "## 4 Analyse factorielle des correspondances de la table `occup` *vs.* `education`"
   ]
  },
  {
   "cell_type": "markdown",
   "metadata": {},
   "source": [
    "**Q** Que conclure du test ci-dessous sur l’intérêt d’une analyse des correspondances? Quelle est la table étudiée, ses dimensions?"
   ]
  },
  {
   "cell_type": "code",
   "execution_count": null,
   "metadata": {},
   "outputs": [],
   "source": [
    "chi2=chi2_contingency(pd.crosstab(dataBase[\"occup\"],dataBase[\"education\"]))\n",
    "print(\"test statistic : \",chi2[0])\n",
    "print(\"p-value : \",chi2[1])"
   ]
  },
  {
   "cell_type": "markdown",
   "metadata": {},
   "source": [
    "Ce test est un test du Chi2. Il teste la liaison ou non entre les deux variables qualitatives `occup` et `education` (H0 : les deux variables sont indépendantes en probabilité).\n",
    "La p-valeur de ce test étant nulle, on rejette H0, on considère donc que les deux variables sont liées. \n",
    "\n",
    "On peut donc faire l'AFC pour préciser la liaison entre les deux variables. On étudie alors la table de contingence des 2 variables de dimension 7x7 (7 modalités pour `occup` et 7 modalités pour `education`)."
   ]
  },
  {
   "cell_type": "markdown",
   "metadata": {},
   "source": [
    "**%%%%%%%%%%%%%%%%%%%%%%%%%%REPONDRE AUX QUESTIONS%%%%%%%%%%%%%%%%%%%%%%%%%%%%%%%%%**\n",
    "\n",
    "-> cf Cal4-Python-AFCM (tuto rudim) + ceux en R"
   ]
  },
  {
   "cell_type": "markdown",
   "metadata": {},
   "source": [
    "**Q** Quelles sont les ACPs considérées dans cette analyse des correspondances, avec quelles métriques?\n",
    "\n",
    "**Q** Quelle est la matrice diagonalisée? \n",
    "\n",
    "**Q** Quelle est la significaiton des valeurs (%) présentes dans les légendes?\n",
    "\n",
    "**Q** Donner en une ligne une signification à l’Axe 1."
   ]
  },
  {
   "cell_type": "code",
   "execution_count": null,
   "metadata": {},
   "outputs": [],
   "source": [
    "from mca import MCA\n",
    "df=dataBase[[\"occup\",\"education\"]]\n",
    "df.head()\n",
    "dc=pd.DataFrame(pd.get_dummies(df[[\"occup\",\"education\"]]))\n",
    "dc.head()"
   ]
  },
  {
   "cell_type": "code",
   "execution_count": null,
   "metadata": {},
   "outputs": [],
   "source": [
    "afc_comp = MCA(dc,benzecri=False)"
   ]
  },
  {
   "cell_type": "code",
   "execution_count": null,
   "metadata": {},
   "outputs": [],
   "source": [
    "fig, ax = plt.subplots(figsize=(15,10))\n",
    "dict_color=7*[\"red\"]+7*[\"blue\"]\n",
    "plt.scatter(afc_comp.fs_c()[:, 0],afc_comp.fs_c()[:, 1],color=dict_color)\n",
    "for i, j, nom in zip(afc_comp.fs_c()[:, 0],afc_comp.fs_c()[:, 1], dc.columns):\n",
    "       plt.text(i, j, nom)\n",
    "plt.show()"
   ]
  },
  {
   "cell_type": "markdown",
   "metadata": {},
   "source": [
    "## 5 Analyse factorielle multiple des correspondances"
   ]
  },
  {
   "cell_type": "markdown",
   "metadata": {},
   "source": [
    "**Q** La section 2 montre le peu d’intérêt de l’ACP. L’AFCM est donc utilisée. Quel prétraitement a été mis en œuvre pour y faire intervenir toutes les variables? Que faire des couples de variables posant problème (première section)?\n",
    "\n",
    "**Q** Combien d’axes est-il raisonnable de retenir selon la figure ci-dessous? "
   ]
  },
  {
   "cell_type": "code",
   "execution_count": null,
   "metadata": {},
   "outputs": [],
   "source": [
    "dataBaseQ = dataBase[[\"workClass\",\"education\",\"mariStat\",\"occup\",\"origEthn\",\"sex\",\"capitalGain\",\"capitalLoss\",\"income\",\"ageQ\",\"hoursWeekQ\"]]\n",
    "\n",
    "dataBaseQ[\"workClass\"]=pd.Categorical(dataBaseQ[\"workClass\"],ordered=False)\n",
    "dataBaseQ[\"education\"]=pd.Categorical(dataBaseQ[\"education\"],ordered=False)\n",
    "dataBaseQ[\"mariStat\"]=pd.Categorical(dataBaseQ[\"mariStat\"],ordered=False)\n",
    "dataBaseQ[\"occup\"]=pd.Categorical(dataBaseQ[\"occup\"],ordered=False)\n",
    "dataBaseQ[\"origEthn\"]=pd.Categorical(dataBaseQ[\"origEthn\"],ordered=False)\n",
    "dataBaseQ[\"sex\"]=pd.Categorical(dataBaseQ[\"sex\"],ordered=False)\n",
    "dataBaseQ[\"income\"]=pd.Categorical(dataBaseQ[\"income\"],ordered=False)\n",
    "\n",
    "dataBaseQ.dtypes"
   ]
  },
  {
   "cell_type": "code",
   "execution_count": null,
   "metadata": {},
   "outputs": [],
   "source": [
    "# Tableau disjonctif complet\n",
    "D=pd.DataFrame(pd.get_dummies(dataBaseQ))\n",
    "D.head()"
   ]
  },
  {
   "cell_type": "code",
   "execution_count": null,
   "metadata": {},
   "outputs": [],
   "source": [
    "# AFCM de toutes les variables qualitatives\n",
    "afcm_comp=MCA(D,benzecri=False)"
   ]
  },
  {
   "cell_type": "code",
   "execution_count": null,
   "metadata": {},
   "outputs": [],
   "source": [
    "#Ebouli des valeurs propres\n",
    "plt.plot(range(1,31),afcm_comp.L[:30])"
   ]
  },
  {
   "cell_type": "markdown",
   "metadata": {},
   "source": [
    "**Q** Comment interpréter les axes 1 et 2 ci-dessous? Que signifient les valeurs (%)?"
   ]
  },
  {
   "cell_type": "code",
   "execution_count": null,
   "metadata": {},
   "outputs": [],
   "source": [
    "fig, ax = plt.subplots(figsize=(15,10))\n",
    "dict_color=5*[\"red\"]+7*[\"blue\"]+4*[\"orange\"]+7*[\"green\"]+5*[\"cyan\"]+2*[\"magenta\"]+3*[\"purple\"]+3*[\"pink\"]+2*[\"black\"]+5*[\"darkred\"]+3*[\"yellow\"]\n",
    "plt.scatter(afcm_comp.fs_c()[:, 0],afcm_comp.fs_c()[:, 1],color=dict_color)\n",
    "for i, j, nom in zip(afcm_comp.fs_c()[:, 0],afcm_comp.fs_c()[:, 1], D.columns):\n",
    "       plt.text(i, j, nom)\n",
    "plt.show()"
   ]
  },
  {
   "cell_type": "markdown",
   "metadata": {},
   "source": [
    "**Q** A partir de quelle AFC et donc de quelle ACP, quelle SVD le graphe ci-dessous a-t-il été obtenu?  La discrimination des individus de revenus inférieurs ou supérieurs à 50k€ sera-t-elle aisée ?"
   ]
  },
  {
   "cell_type": "code",
   "execution_count": null,
   "metadata": {},
   "outputs": [],
   "source": [
    "fig, ax = plt.subplots(figsize=(15,10))\n",
    "plt.scatter(afcm_comp.fs_r()[:, 0],afcm_comp.fs_r()[:, 1],c=color_income)"
   ]
  },
  {
   "cell_type": "code",
   "execution_count": null,
   "metadata": {},
   "outputs": [],
   "source": []
  },
  {
   "cell_type": "code",
   "execution_count": null,
   "metadata": {},
   "outputs": [],
   "source": []
  },
  {
   "cell_type": "code",
   "execution_count": null,
   "metadata": {},
   "outputs": [],
   "source": []
  },
  {
   "cell_type": "code",
   "execution_count": null,
   "metadata": {},
   "outputs": [],
   "source": []
  }
 ],
 "metadata": {
  "kernelspec": {
   "display_name": "Python 3",
   "language": "python",
   "name": "python3"
  },
  "language_info": {
   "codemirror_mode": {
    "name": "ipython",
    "version": 3
   },
   "file_extension": ".py",
   "mimetype": "text/x-python",
   "name": "python",
   "nbconvert_exporter": "python",
   "pygments_lexer": "ipython3",
   "version": "3.6.5"
  }
 },
 "nbformat": 4,
 "nbformat_minor": 2
}
