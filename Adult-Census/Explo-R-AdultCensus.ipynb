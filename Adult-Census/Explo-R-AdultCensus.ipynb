{
 "cells": [
  {
   "cell_type": "markdown",
   "metadata": {},
   "source": [
    "<center>\n",
    "<a href=\"http://www.insa-toulouse.fr/\" ><img src=\"http://www.math.univ-toulouse.fr/~besse/Wikistat/Images/logo-insa.jpg\" style=\"float:left; max-width: 120px; display: inline\" alt=\"INSA\"/></a> \n",
    "\n",
    "<a href=\"http://wikistat.fr/\" ><img src=\"http://www.math.univ-toulouse.fr/~besse/Wikistat/Images/wikistat.jpg\" style=\"max-width: 250px; display: inline\"  alt=\"Wikistat\"/></a>\n",
    "\n",
    "<a href=\"http://www.math.univ-toulouse.fr/\" ><img src=\"http://www.math.univ-toulouse.fr/~besse/Wikistat/Images/logo_imt.jpg\" style=\"float:right; max-width: 250px; display: inline\" alt=\"IMT\"/> </a>\n",
    "</center>"
   ]
  },
  {
   "cell_type": "markdown",
   "metadata": {},
   "source": [
    "# [Scénarios d'Exploration Statistique](https://github.com/wikistat/Exploration)"
   ]
  },
  {
   "cell_type": "markdown",
   "metadata": {},
   "source": [
    "# Exploration de données d'enquête en <a href=\"https://cran.r-project.org/\"><img src=\"https://cran.r-project.org/Rlogo.svg\" style=\"max-width: 40px; display: inline\" alt=\"R\"/></a>:  explication du seuil de revenu \n",
    "\n",
    "### Résumé\n",
    "Analyse de données extraites d'un recensement aux USA de 1994. Préparation des données, exploration élémentaire et multidimensionnelle ([ACP](http://wikistat.fr/pdf/st-m-explo-acp.pdf), [AFCM](http://wikistat.fr/pdf/st-m-explo-afcm.pdf)), [classification non supervisée](http://wikistat.fr/pdf/st-m-explo-classif.pdf). L'objectif est de préparer l'[étape suivante](https://github.com/wikistat/Apprentissage/tree/master/Adult-Census) consistant à modéliser / prévoir le niveau de revenu."
   ]
  },
  {
   "cell_type": "markdown",
   "metadata": {},
   "source": [
    "## Introduction\n",
    "Des données publiques disponibles sur le site [UCI repository](http://archive.ics.uci.edu/ml/) sont extraites de la base de données issue du recensement réalisé aux Etats Unis en 1994. Ces données son largement utilisées et font référence comme outil de *benchmark* pour comparer les performances de méthodes d’apprentissage ou modélisation statistique. L’objectif est alors de prévoir la variable binaire « revenu annuel » supérieur ou inférieur à 50k$. Le travail décrit dans ce document est un préalable, il propose une exploration des données pour en appréhender les grandes structures. Il ne s’agit pas encore de données massives mais 32.561 individus sont décrits par les 14 variables du tableau ci-dessous :\n",
    "\n",
    "Num| Libellé |\tEnsemble de valeurs\n",
    "-|--|--|--\n",
    "1|`Age`|\treal\n",
    "2|\t`workClass`|\tPrivate, Self-emp-not-inc, Self-emp-inc, Federal-gov, Local-gov, State-gov, Without-pay, Never-worked\n",
    "3|\t`fnlwgt`|\treal\n",
    "4|\t`education`|\tBachelors, Some-college, 11th, HS-grad, Prof-school, Assoc-acdm, Assoc-voc, 9th, 7th-8th, 12th, Masters, 1st-4th, 10th, Doctorate, 5th-6th, Preschool\n",
    "5|\t`educNum`|\tinteger\n",
    "6|\t`mariStat`|\tMarried-civ-spouse, Divorced, Never-married, Separated, Widowed, Married-spouse-absent, Married-AF-spouse\n",
    "7|\t`occup`|\tTech-support, Craft-repair, Other-service, Sales, Exec-managerial, Prof-specialty, Handlers-cleaners, Machine-op-inspct, Adm-clerical, Farming-fishing, Transport-moving, Priv-house-serv, Protective-serv, Armed-Forces\n",
    "8|\t`relationship`|\tWife, Own-child, Husband, Not-in-family, Other-relative, Unmarried\n",
    "9|\t`origEthn`|\tWhite, Asian-Pac-Islander, Amer-Indian-Eskimo, Other, Black\n",
    "10|\t`sex`|\tFemale, Male\n",
    "11|\t`capitalGain`|\treal  \n",
    "12|\t`capitalLoss`|\treal\n",
    "13|\t`hoursWeek`|\treal\n",
    "14|\t`nativCountry`|\tUnited-States, Cambodia, England, Puerto-Rico, Canada, Germany, Outlying-US(Guam-USVI-etc), India, Japan, Greece, South, China, Cuba, Iran, Honduras, Philippines, Italy, Poland, Jamaica, Vietnam, Mexico, Portugal, Ireland, France, Dominican-Republic, Laos, Ecuador, Taiwan, Haiti, Columbia, Hungary, Guatemala, Nicaragua, Scotland, Thailand, Yugoslavia, El-Salvador, Trinadad&Tobago, Peru, Hong, Holand-Netherlands\n",
    "15|\t`income`|\t\t>50K, <=50K\n",
    "\n",
    "Une première étape permet de vérifier, sélectionner, recoder les données, avant d’aborder des outils plus élaborés. Les questions suivent la chronologie de ce déroulement.\n",
    "\n",
    "La deuxième étape cherchant un meilleur modèle de prévision du dépassement de seuil de revenu est détaillée dans un [scénario](https://github.com/wikistat/Apprentissage/tree/master/Adult-Census) de la [saison 3: Apprentissage](https://github.com/wikistat/Apprentissage).\n",
    "\n",
    "\n",
    "**Répondre aux questions en s'aidant des résultats des exécutions**."
   ]
  },
  {
   "cell_type": "markdown",
   "metadata": {},
   "source": [
    "## 1 Préparation des données\n",
    "La lecture et la transformation des données est obtenue directement en exécutant un code source en R. Consulter le code du programme pour comprendre les transformations qui ont été réalisées sur les données brutes. Cette étape a été largement anticipée et simplifiée par la fourniture du programe afférent. Ne pas oublier qu'elle est essentielle et occupe la plus grande partie du temps nécessaire à une analyse. Elle aurait pu être rendue plus efficace (programme plus concis et exécution plus rapide) en utilisant la librairie [`dplyr`](https://cran.r-project.org/web/packages/dplyr/dplyr.pdf) très adaptée à cet usage.\n",
    "\n",
    "Charger les [données](https://www.math.univ-toulouse.fr/~besse/Wikistat/data/adultCensus.dat) et le [programme](https://www.math.univ-toulouse.fr/~besse/Wikistat/programmes/dataPrepAdultCensus.R) dans le répertoire courant (`path=\"\"`) en même temps que ce tutoriel ou changer de chemin pour y accéder directement. "
   ]
  },
  {
   "cell_type": "code",
   "execution_count": 3,
   "metadata": {},
   "outputs": [
    {
     "data": {
      "text/plain": [
       "      age                workClass         fnlwgt              education   \n",
       " Min.   :18.00   Federal-Govt :  933   Min.   :  13769   HS-grad    :9829  \n",
       " 1st Qu.:28.00   Not-Working  :   14   1st Qu.: 117627   HS-Graduate:6674  \n",
       " Median :37.00   Other-Govt   : 3330   Median : 178487   Bachelors  :5043  \n",
       " Mean   :38.68   Private      :21988   Mean   : 189879   Dropout    :3421  \n",
       " 3rd Qu.:47.00   Self-Employed: 3560   3rd Qu.: 237671   Associates :2315  \n",
       " Max.   :90.00                         Max.   :1484705   Masters    :1626  \n",
       "                                                         (Other)    : 917  \n",
       "    educNum               mariStat              occup     \n",
       " Min.   : 1.00   Married      :14081   Admin       :3698  \n",
       " 1st Qu.: 9.00   Never-Married: 9394   Blue-Collar :9840  \n",
       " Median :10.00   Not-Married  : 5523   Other-occups:1552  \n",
       " Mean   :10.16   Widowed      :  827   Professional:4028  \n",
       " 3rd Qu.:13.00                         Sales       :3498  \n",
       " Max.   :16.00                         Service     :3218  \n",
       "                                       White-Collar:3991  \n",
       "         relationship          origEthn         sex        capitalGain   \n",
       " Husband       :12460   Amer-Indian:  282   Female: 9632   None  :27295  \n",
       " Not-in-family : 7713   Asian      :  894   Male  :20193   cgLow : 1440  \n",
       " Other-relative:  872   Black      : 2790                  cgHigh: 1090  \n",
       " Own-child     : 4168   Other      :  227                                \n",
       " Unmarried     : 3206   White      :25632                                \n",
       " Wife          : 1406                                                    \n",
       "                                                                         \n",
       " capitalLoss      hoursWeek                   nativCountry       income     \n",
       " None  :28409   Min.   : 1.00   United-States       :27182   incHigh: 7507  \n",
       " clLow :  723   1st Qu.:40.00   Latin-America       : 1041   incLow :22318  \n",
       " clHigh:  693   Median :40.00   British-Commonwealth:  324                  \n",
       "                Mean   :41.16   SE-Asia             :  304                  \n",
       "                3rd Qu.:45.00   Euro_1              :  224                  \n",
       "                Max.   :99.00   Euro_2              :  218                  \n",
       "                                (Other)             :  532                  \n",
       "  LcapitalGain      LcapitalLoss     ageQ      hoursWeekQ \n",
       " Min.   : 0.0000   Min.   :0.0000   Ag1:6081   HW1: 6416  \n",
       " 1st Qu.: 0.0000   1st Qu.:0.0000   Ag2:5659   HW2:14253  \n",
       " Median : 0.0000   Median :0.0000   Ag3:6453   HW3: 9156  \n",
       " Mean   : 0.7502   Mean   :0.3565   Ag4:5940              \n",
       " 3rd Qu.: 0.0000   3rd Qu.:0.0000   Ag5:5692              \n",
       " Max.   :11.5129   Max.   :8.3795                         \n",
       "                                                          "
      ]
     },
     "metadata": {},
     "output_type": "display_data"
    },
    {
     "data": {
      "text/html": [
       "<table>\n",
       "<thead><tr><th></th><th scope=col>age</th><th scope=col>workClass</th><th scope=col>fnlwgt</th><th scope=col>education</th><th scope=col>educNum</th><th scope=col>mariStat</th><th scope=col>occup</th><th scope=col>relationship</th><th scope=col>origEthn</th><th scope=col>sex</th><th scope=col>capitalGain</th><th scope=col>capitalLoss</th><th scope=col>hoursWeek</th><th scope=col>nativCountry</th><th scope=col>income</th><th scope=col>LcapitalGain</th><th scope=col>LcapitalLoss</th><th scope=col>ageQ</th><th scope=col>hoursWeekQ</th></tr></thead>\n",
       "<tbody>\n",
       "\t<tr><th scope=row>1</th><td>39                  </td><td>Other-Govt          </td><td> 77516              </td><td>Bachelors           </td><td>13                  </td><td>Never-Married       </td><td>Admin               </td><td>Not-in-family       </td><td>White               </td><td>Male                </td><td>cgLow               </td><td>None                </td><td>40                  </td><td>United-States       </td><td>incLow              </td><td>7.684784            </td><td>0.000000            </td><td>Ag3                 </td><td>HW2                 </td></tr>\n",
       "\t<tr><th scope=row>2</th><td>50                  </td><td>Self-Employed       </td><td> 83311              </td><td>Bachelors           </td><td>13                  </td><td>Married             </td><td>White-Collar        </td><td>Husband             </td><td>White               </td><td>Male                </td><td>None                </td><td>None                </td><td>13                  </td><td>United-States       </td><td>incLow              </td><td>0.000000            </td><td>0.000000            </td><td>Ag4                 </td><td>HW1                 </td></tr>\n",
       "\t<tr><th scope=row>3</th><td>38                  </td><td>Private             </td><td>215646              </td><td>HS-grad             </td><td> 9                  </td><td>Not-Married         </td><td>Blue-Collar         </td><td>Not-in-family       </td><td>White               </td><td>Male                </td><td>None                </td><td>None                </td><td>40                  </td><td>United-States       </td><td>incLow              </td><td>0.000000            </td><td>0.000000            </td><td>Ag3                 </td><td>HW2                 </td></tr>\n",
       "\t<tr><th scope=row>4</th><td>53                  </td><td>Private             </td><td>234721              </td><td>Dropout             </td><td> 7                  </td><td>Married             </td><td>Blue-Collar         </td><td>Husband             </td><td>Black               </td><td>Male                </td><td>None                </td><td>None                </td><td>40                  </td><td>United-States       </td><td>incLow              </td><td>0.000000            </td><td>0.000000            </td><td>Ag5                 </td><td>HW2                 </td></tr>\n",
       "\t<tr><th scope=row>5</th><td>28                  </td><td>Private             </td><td>338409              </td><td>Bachelors           </td><td>13                  </td><td>Married             </td><td>Professional        </td><td>Wife                </td><td>Black               </td><td>Female              </td><td>None                </td><td>None                </td><td>40                  </td><td>Other               </td><td>incLow              </td><td>0.000000            </td><td>0.000000            </td><td>Ag2                 </td><td>HW2                 </td></tr>\n",
       "\t<tr><th scope=row>6</th><td>37                  </td><td>Private             </td><td>284582              </td><td>Masters             </td><td>14                  </td><td>Married             </td><td>White-Collar        </td><td>Wife                </td><td>White               </td><td>Female              </td><td>None                </td><td>None                </td><td>40                  </td><td>United-States       </td><td>incLow              </td><td>0.000000            </td><td>0.000000            </td><td>Ag3                 </td><td>HW2                 </td></tr>\n",
       "\t<tr><th scope=row>7</th><td>49                  </td><td>Private             </td><td>160187              </td><td>Dropout             </td><td> 5                  </td><td>Not-Married         </td><td>Service             </td><td>Not-in-family       </td><td>Black               </td><td>Female              </td><td>None                </td><td>None                </td><td>16                  </td><td>Latin-America       </td><td>incLow              </td><td>0.000000            </td><td>0.000000            </td><td>Ag4                 </td><td>HW1                 </td></tr>\n",
       "\t<tr><th scope=row>8</th><td>52                  </td><td>Self-Employed       </td><td>209642              </td><td>HS-grad             </td><td> 9                  </td><td>Married             </td><td>White-Collar        </td><td>Husband             </td><td>White               </td><td>Male                </td><td>None                </td><td>None                </td><td>45                  </td><td>United-States       </td><td>incHigh             </td><td>0.000000            </td><td>0.000000            </td><td>Ag5                 </td><td>HW3                 </td></tr>\n",
       "\t<tr><th scope=row>9</th><td>31                  </td><td>Private             </td><td> 45781              </td><td>Masters             </td><td>14                  </td><td>Never-Married       </td><td>Professional        </td><td>Not-in-family       </td><td>White               </td><td>Female              </td><td>cgHigh              </td><td>None                </td><td>50                  </td><td>United-States       </td><td>incHigh             </td><td>9.552866            </td><td>0.000000            </td><td>Ag2                 </td><td>HW3                 </td></tr>\n",
       "\t<tr><th scope=row>10</th><td>42                  </td><td>Private             </td><td>159449              </td><td>Bachelors           </td><td>13                  </td><td>Married             </td><td>White-Collar        </td><td>Husband             </td><td>White               </td><td>Male                </td><td>cgLow               </td><td>None                </td><td>40                  </td><td>United-States       </td><td>incHigh             </td><td>8.552367            </td><td>0.000000            </td><td>Ag4                 </td><td>HW2                 </td></tr>\n",
       "\t<tr><th scope=row>11</th><td>37                  </td><td>Private             </td><td>280464              </td><td>HS-Graduate         </td><td>10                  </td><td>Married             </td><td>White-Collar        </td><td>Husband             </td><td>Black               </td><td>Male                </td><td>None                </td><td>None                </td><td>80                  </td><td>United-States       </td><td>incHigh             </td><td>0.000000            </td><td>0.000000            </td><td>Ag3                 </td><td>HW3                 </td></tr>\n",
       "\t<tr><th scope=row>12</th><td>30                  </td><td>Other-Govt          </td><td>141297              </td><td>Bachelors           </td><td>13                  </td><td>Married             </td><td>Professional        </td><td>Husband             </td><td>Asian               </td><td>Male                </td><td>None                </td><td>None                </td><td>40                  </td><td>British-Commonwealth</td><td>incHigh             </td><td>0.000000            </td><td>0.000000            </td><td>Ag2                 </td><td>HW2                 </td></tr>\n",
       "\t<tr><th scope=row>13</th><td>23                  </td><td>Private             </td><td>122272              </td><td>Bachelors           </td><td>13                  </td><td>Never-Married       </td><td>Admin               </td><td>Own-child           </td><td>White               </td><td>Female              </td><td>None                </td><td>None                </td><td>30                  </td><td>United-States       </td><td>incLow              </td><td>0.000000            </td><td>0.000000            </td><td>Ag1                 </td><td>HW1                 </td></tr>\n",
       "\t<tr><th scope=row>14</th><td>32                  </td><td>Private             </td><td>205019              </td><td>Associates          </td><td>12                  </td><td>Never-Married       </td><td>Sales               </td><td>Not-in-family       </td><td>Black               </td><td>Male                </td><td>None                </td><td>None                </td><td>50                  </td><td>United-States       </td><td>incLow              </td><td>0.000000            </td><td>0.000000            </td><td>Ag2                 </td><td>HW3                 </td></tr>\n",
       "\t<tr><th scope=row>16</th><td>34                  </td><td>Private             </td><td>245487              </td><td>Dropout             </td><td> 4                  </td><td>Married             </td><td>Blue-Collar         </td><td>Husband             </td><td>Amer-Indian         </td><td>Male                </td><td>None                </td><td>None                </td><td>45                  </td><td>Latin-America       </td><td>incLow              </td><td>0.000000            </td><td>0.000000            </td><td>Ag3                 </td><td>HW3                 </td></tr>\n",
       "\t<tr><th scope=row>17</th><td>25                  </td><td>Self-Employed       </td><td>176756              </td><td>HS-grad             </td><td> 9                  </td><td>Never-Married       </td><td>Blue-Collar         </td><td>Own-child           </td><td>White               </td><td>Male                </td><td>None                </td><td>None                </td><td>35                  </td><td>United-States       </td><td>incLow              </td><td>0.000000            </td><td>0.000000            </td><td>Ag1                 </td><td>HW1                 </td></tr>\n",
       "\t<tr><th scope=row>18</th><td>32                  </td><td>Private             </td><td>186824              </td><td>HS-grad             </td><td> 9                  </td><td>Never-Married       </td><td>Blue-Collar         </td><td>Unmarried           </td><td>White               </td><td>Male                </td><td>None                </td><td>None                </td><td>40                  </td><td>United-States       </td><td>incLow              </td><td>0.000000            </td><td>0.000000            </td><td>Ag2                 </td><td>HW2                 </td></tr>\n",
       "\t<tr><th scope=row>19</th><td>38                  </td><td>Private             </td><td> 28887              </td><td>Dropout             </td><td> 7                  </td><td>Married             </td><td>Sales               </td><td>Husband             </td><td>White               </td><td>Male                </td><td>None                </td><td>None                </td><td>50                  </td><td>United-States       </td><td>incLow              </td><td>0.000000            </td><td>0.000000            </td><td>Ag3                 </td><td>HW3                 </td></tr>\n",
       "\t<tr><th scope=row>20</th><td>43                  </td><td>Self-Employed       </td><td>292175              </td><td>Masters             </td><td>14                  </td><td>Not-Married         </td><td>White-Collar        </td><td>Unmarried           </td><td>White               </td><td>Female              </td><td>None                </td><td>None                </td><td>45                  </td><td>United-States       </td><td>incHigh             </td><td>0.000000            </td><td>0.000000            </td><td>Ag4                 </td><td>HW3                 </td></tr>\n",
       "\t<tr><th scope=row>21</th><td>40                  </td><td>Private             </td><td>193524              </td><td>Doctorate           </td><td>16                  </td><td>Married             </td><td>Professional        </td><td>Husband             </td><td>White               </td><td>Male                </td><td>None                </td><td>None                </td><td>60                  </td><td>United-States       </td><td>incHigh             </td><td>0.000000            </td><td>0.000000            </td><td>Ag3                 </td><td>HW3                 </td></tr>\n",
       "\t<tr><th scope=row>22</th><td>54                  </td><td>Private             </td><td>302146              </td><td>HS-grad             </td><td> 9                  </td><td>Not-Married         </td><td>Service             </td><td>Unmarried           </td><td>Black               </td><td>Female              </td><td>None                </td><td>None                </td><td>20                  </td><td>United-States       </td><td>incLow              </td><td>0.000000            </td><td>0.000000            </td><td>Ag5                 </td><td>HW1                 </td></tr>\n",
       "\t<tr><th scope=row>23</th><td>35                  </td><td>Federal-Govt        </td><td> 76845              </td><td>Dropout             </td><td> 5                  </td><td>Married             </td><td>Blue-Collar         </td><td>Husband             </td><td>Black               </td><td>Male                </td><td>None                </td><td>None                </td><td>40                  </td><td>United-States       </td><td>incLow              </td><td>0.000000            </td><td>0.000000            </td><td>Ag3                 </td><td>HW2                 </td></tr>\n",
       "\t<tr><th scope=row>24</th><td>43                  </td><td>Private             </td><td>117037              </td><td>Dropout             </td><td> 7                  </td><td>Married             </td><td>Blue-Collar         </td><td>Husband             </td><td>White               </td><td>Male                </td><td>None                </td><td>clHigh              </td><td>40                  </td><td>United-States       </td><td>incLow              </td><td>0.000000            </td><td>7.622175            </td><td>Ag4                 </td><td>HW2                 </td></tr>\n",
       "\t<tr><th scope=row>25</th><td>59                  </td><td>Private             </td><td>109015              </td><td>HS-grad             </td><td> 9                  </td><td>Not-Married         </td><td>Other-occups        </td><td>Unmarried           </td><td>White               </td><td>Female              </td><td>None                </td><td>None                </td><td>40                  </td><td>United-States       </td><td>incLow              </td><td>0.000000            </td><td>0.000000            </td><td>Ag5                 </td><td>HW2                 </td></tr>\n",
       "\t<tr><th scope=row>26</th><td>56                  </td><td>Other-Govt          </td><td>216851              </td><td>Bachelors           </td><td>13                  </td><td>Married             </td><td>Other-occups        </td><td>Husband             </td><td>White               </td><td>Male                </td><td>None                </td><td>None                </td><td>40                  </td><td>United-States       </td><td>incHigh             </td><td>0.000000            </td><td>0.000000            </td><td>Ag5                 </td><td>HW2                 </td></tr>\n",
       "\t<tr><th scope=row>27</th><td>19                  </td><td>Private             </td><td>168294              </td><td>HS-grad             </td><td> 9                  </td><td>Never-Married       </td><td>Blue-Collar         </td><td>Own-child           </td><td>White               </td><td>Male                </td><td>None                </td><td>None                </td><td>40                  </td><td>United-States       </td><td>incLow              </td><td>0.000000            </td><td>0.000000            </td><td>Ag1                 </td><td>HW2                 </td></tr>\n",
       "\t<tr><th scope=row>29</th><td>39                  </td><td>Private             </td><td>367260              </td><td>HS-grad             </td><td> 9                  </td><td>Not-Married         </td><td>White-Collar        </td><td>Not-in-family       </td><td>White               </td><td>Male                </td><td>None                </td><td>None                </td><td>80                  </td><td>United-States       </td><td>incLow              </td><td>0.000000            </td><td>0.000000            </td><td>Ag3                 </td><td>HW3                 </td></tr>\n",
       "\t<tr><th scope=row>30</th><td>49                  </td><td>Private             </td><td>193366              </td><td>HS-grad             </td><td> 9                  </td><td>Married             </td><td>Blue-Collar         </td><td>Husband             </td><td>White               </td><td>Male                </td><td>None                </td><td>None                </td><td>40                  </td><td>United-States       </td><td>incLow              </td><td>0.000000            </td><td>0.000000            </td><td>Ag4                 </td><td>HW2                 </td></tr>\n",
       "\t<tr><th scope=row>31</th><td>23                  </td><td>Other-Govt          </td><td>190709              </td><td>Associates          </td><td>12                  </td><td>Never-Married       </td><td>Other-occups        </td><td>Not-in-family       </td><td>White               </td><td>Male                </td><td>None                </td><td>None                </td><td>52                  </td><td>United-States       </td><td>incLow              </td><td>0.000000            </td><td>0.000000            </td><td>Ag1                 </td><td>HW3                 </td></tr>\n",
       "\t<tr><th scope=row>32</th><td>20                  </td><td>Private             </td><td>266015              </td><td>HS-Graduate         </td><td>10                  </td><td>Never-Married       </td><td>Sales               </td><td>Own-child           </td><td>Black               </td><td>Male                </td><td>None                </td><td>None                </td><td>44                  </td><td>United-States       </td><td>incLow              </td><td>0.000000            </td><td>0.000000            </td><td>Ag1                 </td><td>HW3                 </td></tr>\n",
       "\t<tr><th scope=row>⋮</th><td>⋮</td><td>⋮</td><td>⋮</td><td>⋮</td><td>⋮</td><td>⋮</td><td>⋮</td><td>⋮</td><td>⋮</td><td>⋮</td><td>⋮</td><td>⋮</td><td>⋮</td><td>⋮</td><td>⋮</td><td>⋮</td><td>⋮</td><td>⋮</td><td>⋮</td></tr>\n",
       "\t<tr><th scope=row>32527</th><td>32            </td><td>Private       </td><td>211349        </td><td>Dropout       </td><td> 6            </td><td>Married       </td><td>Blue-Collar   </td><td>Husband       </td><td>White         </td><td>Male          </td><td>None          </td><td>None          </td><td>40            </td><td>United-States </td><td>incLow        </td><td>0.000000      </td><td>0             </td><td>Ag2           </td><td>HW2           </td></tr>\n",
       "\t<tr><th scope=row>32528</th><td>22            </td><td>Private       </td><td>203715        </td><td>HS-Graduate   </td><td>10            </td><td>Never-Married </td><td>Admin         </td><td>Own-child     </td><td>White         </td><td>Male          </td><td>None          </td><td>None          </td><td>40            </td><td>United-States </td><td>incLow        </td><td>0.000000      </td><td>0             </td><td>Ag1           </td><td>HW2           </td></tr>\n",
       "\t<tr><th scope=row>32529</th><td>31            </td><td>Private       </td><td>292592        </td><td>HS-grad       </td><td> 9            </td><td>Married       </td><td>Blue-Collar   </td><td>Wife          </td><td>White         </td><td>Female        </td><td>None          </td><td>None          </td><td>40            </td><td>United-States </td><td>incLow        </td><td>0.000000      </td><td>0             </td><td>Ag2           </td><td>HW2           </td></tr>\n",
       "\t<tr><th scope=row>32530</th><td>29            </td><td>Private       </td><td>125976        </td><td>HS-grad       </td><td> 9            </td><td>Not-Married   </td><td>Sales         </td><td>Unmarried     </td><td>White         </td><td>Female        </td><td>None          </td><td>None          </td><td>35            </td><td>United-States </td><td>incLow        </td><td>0.000000      </td><td>0             </td><td>Ag2           </td><td>HW1           </td></tr>\n",
       "\t<tr><th scope=row>32533</th><td>34            </td><td>Private       </td><td>204461        </td><td>Doctorate     </td><td>16            </td><td>Married       </td><td>Professional  </td><td>Husband       </td><td>White         </td><td>Male          </td><td>None          </td><td>None          </td><td>60            </td><td>United-States </td><td>incHigh       </td><td>0.000000      </td><td>0             </td><td>Ag3           </td><td>HW3           </td></tr>\n",
       "\t<tr><th scope=row>32534</th><td>54            </td><td>Private       </td><td>337992        </td><td>Bachelors     </td><td>13            </td><td>Married       </td><td>White-Collar  </td><td>Husband       </td><td>Asian         </td><td>Male          </td><td>None          </td><td>None          </td><td>50            </td><td>Other         </td><td>incHigh       </td><td>0.000000      </td><td>0             </td><td>Ag5           </td><td>HW3           </td></tr>\n",
       "\t<tr><th scope=row>32535</th><td>37            </td><td>Private       </td><td>179137        </td><td>HS-Graduate   </td><td>10            </td><td>Not-Married   </td><td>Admin         </td><td>Unmarried     </td><td>White         </td><td>Female        </td><td>None          </td><td>None          </td><td>39            </td><td>United-States </td><td>incLow        </td><td>0.000000      </td><td>0             </td><td>Ag3           </td><td>HW1           </td></tr>\n",
       "\t<tr><th scope=row>32536</th><td>22            </td><td>Private       </td><td>325033        </td><td>Dropout       </td><td> 8            </td><td>Never-Married </td><td>Other-occups  </td><td>Own-child     </td><td>Black         </td><td>Male          </td><td>None          </td><td>None          </td><td>35            </td><td>United-States </td><td>incLow        </td><td>0.000000      </td><td>0             </td><td>Ag1           </td><td>HW1           </td></tr>\n",
       "\t<tr><th scope=row>32537</th><td>34            </td><td>Private       </td><td>160216        </td><td>Bachelors     </td><td>13            </td><td>Never-Married </td><td>White-Collar  </td><td>Not-in-family </td><td>White         </td><td>Female        </td><td>None          </td><td>None          </td><td>55            </td><td>United-States </td><td>incHigh       </td><td>0.000000      </td><td>0             </td><td>Ag3           </td><td>HW3           </td></tr>\n",
       "\t<tr><th scope=row>32538</th><td>30            </td><td>Private       </td><td>345898        </td><td>HS-grad       </td><td> 9            </td><td>Never-Married </td><td>Blue-Collar   </td><td>Not-in-family </td><td>Black         </td><td>Male          </td><td>None          </td><td>None          </td><td>46            </td><td>United-States </td><td>incLow        </td><td>0.000000      </td><td>0             </td><td>Ag2           </td><td>HW3           </td></tr>\n",
       "\t<tr><th scope=row>32539</th><td>38            </td><td>Private       </td><td>139180        </td><td>Bachelors     </td><td>13            </td><td>Not-Married   </td><td>Professional  </td><td>Unmarried     </td><td>Black         </td><td>Female        </td><td>cgHigh        </td><td>None          </td><td>45            </td><td>United-States </td><td>incHigh       </td><td>9.617205      </td><td>0             </td><td>Ag3           </td><td>HW3           </td></tr>\n",
       "\t<tr><th scope=row>32541</th><td>45            </td><td>Other-Govt    </td><td>252208        </td><td>HS-grad       </td><td> 9            </td><td>Not-Married   </td><td>Admin         </td><td>Own-child     </td><td>White         </td><td>Female        </td><td>None          </td><td>None          </td><td>40            </td><td>United-States </td><td>incLow        </td><td>0.000000      </td><td>0             </td><td>Ag4           </td><td>HW2           </td></tr>\n",
       "\t<tr><th scope=row>32544</th><td>45            </td><td>Other-Govt    </td><td>119199        </td><td>Associates    </td><td>12            </td><td>Not-Married   </td><td>Professional  </td><td>Unmarried     </td><td>White         </td><td>Female        </td><td>None          </td><td>None          </td><td>48            </td><td>United-States </td><td>incLow        </td><td>0.000000      </td><td>0             </td><td>Ag4           </td><td>HW3           </td></tr>\n",
       "\t<tr><th scope=row>32545</th><td>31            </td><td>Private       </td><td>199655        </td><td>Masters       </td><td>14            </td><td>Not-Married   </td><td>Service       </td><td>Not-in-family </td><td>Other         </td><td>Female        </td><td>None          </td><td>None          </td><td>30            </td><td>United-States </td><td>incLow        </td><td>0.000000      </td><td>0             </td><td>Ag2           </td><td>HW1           </td></tr>\n",
       "\t<tr><th scope=row>32546</th><td>39            </td><td>Other-Govt    </td><td>111499        </td><td>Associates    </td><td>12            </td><td>Married       </td><td>Admin         </td><td>Wife          </td><td>White         </td><td>Female        </td><td>None          </td><td>None          </td><td>20            </td><td>United-States </td><td>incHigh       </td><td>0.000000      </td><td>0             </td><td>Ag3           </td><td>HW1           </td></tr>\n",
       "\t<tr><th scope=row>32547</th><td>37            </td><td>Private       </td><td>198216        </td><td>Associates    </td><td>12            </td><td>Not-Married   </td><td>Other-occups  </td><td>Not-in-family </td><td>White         </td><td>Female        </td><td>None          </td><td>None          </td><td>40            </td><td>United-States </td><td>incLow        </td><td>0.000000      </td><td>0             </td><td>Ag3           </td><td>HW2           </td></tr>\n",
       "\t<tr><th scope=row>32548</th><td>43            </td><td>Private       </td><td>260761        </td><td>HS-grad       </td><td> 9            </td><td>Married       </td><td>Blue-Collar   </td><td>Husband       </td><td>White         </td><td>Male          </td><td>None          </td><td>None          </td><td>40            </td><td>Latin-America </td><td>incLow        </td><td>0.000000      </td><td>0             </td><td>Ag4           </td><td>HW2           </td></tr>\n",
       "\t<tr><th scope=row>32549</th><td>65            </td><td>Self-Employed </td><td> 99359        </td><td>Prof-School   </td><td>15            </td><td>Never-Married </td><td>Professional  </td><td>Not-in-family </td><td>White         </td><td>Male          </td><td>cgLow         </td><td>None          </td><td>60            </td><td>United-States </td><td>incLow        </td><td>6.991177      </td><td>0             </td><td>Ag5           </td><td>HW3           </td></tr>\n",
       "\t<tr><th scope=row>32550</th><td>43            </td><td>Other-Govt    </td><td>255835        </td><td>HS-Graduate   </td><td>10            </td><td>Not-Married   </td><td>Admin         </td><td>Other-relative</td><td>White         </td><td>Female        </td><td>None          </td><td>None          </td><td>40            </td><td>United-States </td><td>incLow        </td><td>0.000000      </td><td>0             </td><td>Ag4           </td><td>HW2           </td></tr>\n",
       "\t<tr><th scope=row>32551</th><td>43            </td><td>Self-Employed </td><td> 27242        </td><td>HS-Graduate   </td><td>10            </td><td>Married       </td><td>Blue-Collar   </td><td>Husband       </td><td>White         </td><td>Male          </td><td>None          </td><td>None          </td><td>50            </td><td>United-States </td><td>incLow        </td><td>0.000000      </td><td>0             </td><td>Ag4           </td><td>HW3           </td></tr>\n",
       "\t<tr><th scope=row>32552</th><td>32            </td><td>Private       </td><td> 34066        </td><td>Dropout       </td><td> 6            </td><td>Married       </td><td>Blue-Collar   </td><td>Husband       </td><td>Amer-Indian   </td><td>Male          </td><td>None          </td><td>None          </td><td>40            </td><td>United-States </td><td>incLow        </td><td>0.000000      </td><td>0             </td><td>Ag2           </td><td>HW2           </td></tr>\n",
       "\t<tr><th scope=row>32553</th><td>43            </td><td>Private       </td><td> 84661        </td><td>Associates    </td><td>11            </td><td>Married       </td><td>Sales         </td><td>Husband       </td><td>White         </td><td>Male          </td><td>None          </td><td>None          </td><td>45            </td><td>United-States </td><td>incLow        </td><td>0.000000      </td><td>0             </td><td>Ag4           </td><td>HW3           </td></tr>\n",
       "\t<tr><th scope=row>32554</th><td>32            </td><td>Private       </td><td>116138        </td><td>Masters       </td><td>14            </td><td>Never-Married </td><td>Other-occups  </td><td>Not-in-family </td><td>Asian         </td><td>Male          </td><td>None          </td><td>None          </td><td>11            </td><td>China         </td><td>incLow        </td><td>0.000000      </td><td>0             </td><td>Ag2           </td><td>HW1           </td></tr>\n",
       "\t<tr><th scope=row>32555</th><td>53            </td><td>Private       </td><td>321865        </td><td>Masters       </td><td>14            </td><td>Married       </td><td>White-Collar  </td><td>Husband       </td><td>White         </td><td>Male          </td><td>None          </td><td>None          </td><td>40            </td><td>United-States </td><td>incHigh       </td><td>0.000000      </td><td>0             </td><td>Ag5           </td><td>HW2           </td></tr>\n",
       "\t<tr><th scope=row>32556</th><td>22            </td><td>Private       </td><td>310152        </td><td>HS-Graduate   </td><td>10            </td><td>Never-Married </td><td>Other-occups  </td><td>Not-in-family </td><td>White         </td><td>Male          </td><td>None          </td><td>None          </td><td>40            </td><td>United-States </td><td>incLow        </td><td>0.000000      </td><td>0             </td><td>Ag1           </td><td>HW2           </td></tr>\n",
       "\t<tr><th scope=row>32557</th><td>27            </td><td>Private       </td><td>257302        </td><td>Associates    </td><td>12            </td><td>Married       </td><td>Other-occups  </td><td>Wife          </td><td>White         </td><td>Female        </td><td>None          </td><td>None          </td><td>38            </td><td>United-States </td><td>incLow        </td><td>0.000000      </td><td>0             </td><td>Ag2           </td><td>HW1           </td></tr>\n",
       "\t<tr><th scope=row>32558</th><td>40            </td><td>Private       </td><td>154374        </td><td>HS-grad       </td><td> 9            </td><td>Married       </td><td>Blue-Collar   </td><td>Husband       </td><td>White         </td><td>Male          </td><td>None          </td><td>None          </td><td>40            </td><td>United-States </td><td>incHigh       </td><td>0.000000      </td><td>0             </td><td>Ag3           </td><td>HW2           </td></tr>\n",
       "\t<tr><th scope=row>32559</th><td>58            </td><td>Private       </td><td>151910        </td><td>HS-grad       </td><td> 9            </td><td>Widowed       </td><td>Admin         </td><td>Unmarried     </td><td>White         </td><td>Female        </td><td>None          </td><td>None          </td><td>40            </td><td>United-States </td><td>incLow        </td><td>0.000000      </td><td>0             </td><td>Ag5           </td><td>HW2           </td></tr>\n",
       "\t<tr><th scope=row>32560</th><td>22            </td><td>Private       </td><td>201490        </td><td>HS-grad       </td><td> 9            </td><td>Never-Married </td><td>Admin         </td><td>Own-child     </td><td>White         </td><td>Male          </td><td>None          </td><td>None          </td><td>20            </td><td>United-States </td><td>incLow        </td><td>0.000000      </td><td>0             </td><td>Ag1           </td><td>HW1           </td></tr>\n",
       "\t<tr><th scope=row>32561</th><td>52            </td><td>Self-Employed </td><td>287927        </td><td>HS-grad       </td><td> 9            </td><td>Married       </td><td>White-Collar  </td><td>Wife          </td><td>White         </td><td>Female        </td><td>cgHigh        </td><td>None          </td><td>40            </td><td>United-States </td><td>incHigh       </td><td>9.617471      </td><td>0             </td><td>Ag5           </td><td>HW2           </td></tr>\n",
       "</tbody>\n",
       "</table>\n"
      ],
      "text/latex": [
       "\\begin{tabular}{r|lllllllllllllllllll}\n",
       "  & age & workClass & fnlwgt & education & educNum & mariStat & occup & relationship & origEthn & sex & capitalGain & capitalLoss & hoursWeek & nativCountry & income & LcapitalGain & LcapitalLoss & ageQ & hoursWeekQ\\\\\n",
       "\\hline\n",
       "\t1 & 39                   & Other-Govt           &  77516               & Bachelors            & 13                   & Never-Married        & Admin                & Not-in-family        & White                & Male                 & cgLow                & None                 & 40                   & United-States        & incLow               & 7.684784             & 0.000000             & Ag3                  & HW2                 \\\\\n",
       "\t2 & 50                   & Self-Employed        &  83311               & Bachelors            & 13                   & Married              & White-Collar         & Husband              & White                & Male                 & None                 & None                 & 13                   & United-States        & incLow               & 0.000000             & 0.000000             & Ag4                  & HW1                 \\\\\n",
       "\t3 & 38                   & Private              & 215646               & HS-grad              &  9                   & Not-Married          & Blue-Collar          & Not-in-family        & White                & Male                 & None                 & None                 & 40                   & United-States        & incLow               & 0.000000             & 0.000000             & Ag3                  & HW2                 \\\\\n",
       "\t4 & 53                   & Private              & 234721               & Dropout              &  7                   & Married              & Blue-Collar          & Husband              & Black                & Male                 & None                 & None                 & 40                   & United-States        & incLow               & 0.000000             & 0.000000             & Ag5                  & HW2                 \\\\\n",
       "\t5 & 28                   & Private              & 338409               & Bachelors            & 13                   & Married              & Professional         & Wife                 & Black                & Female               & None                 & None                 & 40                   & Other                & incLow               & 0.000000             & 0.000000             & Ag2                  & HW2                 \\\\\n",
       "\t6 & 37                   & Private              & 284582               & Masters              & 14                   & Married              & White-Collar         & Wife                 & White                & Female               & None                 & None                 & 40                   & United-States        & incLow               & 0.000000             & 0.000000             & Ag3                  & HW2                 \\\\\n",
       "\t7 & 49                   & Private              & 160187               & Dropout              &  5                   & Not-Married          & Service              & Not-in-family        & Black                & Female               & None                 & None                 & 16                   & Latin-America        & incLow               & 0.000000             & 0.000000             & Ag4                  & HW1                 \\\\\n",
       "\t8 & 52                   & Self-Employed        & 209642               & HS-grad              &  9                   & Married              & White-Collar         & Husband              & White                & Male                 & None                 & None                 & 45                   & United-States        & incHigh              & 0.000000             & 0.000000             & Ag5                  & HW3                 \\\\\n",
       "\t9 & 31                   & Private              &  45781               & Masters              & 14                   & Never-Married        & Professional         & Not-in-family        & White                & Female               & cgHigh               & None                 & 50                   & United-States        & incHigh              & 9.552866             & 0.000000             & Ag2                  & HW3                 \\\\\n",
       "\t10 & 42                   & Private              & 159449               & Bachelors            & 13                   & Married              & White-Collar         & Husband              & White                & Male                 & cgLow                & None                 & 40                   & United-States        & incHigh              & 8.552367             & 0.000000             & Ag4                  & HW2                 \\\\\n",
       "\t11 & 37                   & Private              & 280464               & HS-Graduate          & 10                   & Married              & White-Collar         & Husband              & Black                & Male                 & None                 & None                 & 80                   & United-States        & incHigh              & 0.000000             & 0.000000             & Ag3                  & HW3                 \\\\\n",
       "\t12 & 30                   & Other-Govt           & 141297               & Bachelors            & 13                   & Married              & Professional         & Husband              & Asian                & Male                 & None                 & None                 & 40                   & British-Commonwealth & incHigh              & 0.000000             & 0.000000             & Ag2                  & HW2                 \\\\\n",
       "\t13 & 23                   & Private              & 122272               & Bachelors            & 13                   & Never-Married        & Admin                & Own-child            & White                & Female               & None                 & None                 & 30                   & United-States        & incLow               & 0.000000             & 0.000000             & Ag1                  & HW1                 \\\\\n",
       "\t14 & 32                   & Private              & 205019               & Associates           & 12                   & Never-Married        & Sales                & Not-in-family        & Black                & Male                 & None                 & None                 & 50                   & United-States        & incLow               & 0.000000             & 0.000000             & Ag2                  & HW3                 \\\\\n",
       "\t16 & 34                   & Private              & 245487               & Dropout              &  4                   & Married              & Blue-Collar          & Husband              & Amer-Indian          & Male                 & None                 & None                 & 45                   & Latin-America        & incLow               & 0.000000             & 0.000000             & Ag3                  & HW3                 \\\\\n",
       "\t17 & 25                   & Self-Employed        & 176756               & HS-grad              &  9                   & Never-Married        & Blue-Collar          & Own-child            & White                & Male                 & None                 & None                 & 35                   & United-States        & incLow               & 0.000000             & 0.000000             & Ag1                  & HW1                 \\\\\n",
       "\t18 & 32                   & Private              & 186824               & HS-grad              &  9                   & Never-Married        & Blue-Collar          & Unmarried            & White                & Male                 & None                 & None                 & 40                   & United-States        & incLow               & 0.000000             & 0.000000             & Ag2                  & HW2                 \\\\\n",
       "\t19 & 38                   & Private              &  28887               & Dropout              &  7                   & Married              & Sales                & Husband              & White                & Male                 & None                 & None                 & 50                   & United-States        & incLow               & 0.000000             & 0.000000             & Ag3                  & HW3                 \\\\\n",
       "\t20 & 43                   & Self-Employed        & 292175               & Masters              & 14                   & Not-Married          & White-Collar         & Unmarried            & White                & Female               & None                 & None                 & 45                   & United-States        & incHigh              & 0.000000             & 0.000000             & Ag4                  & HW3                 \\\\\n",
       "\t21 & 40                   & Private              & 193524               & Doctorate            & 16                   & Married              & Professional         & Husband              & White                & Male                 & None                 & None                 & 60                   & United-States        & incHigh              & 0.000000             & 0.000000             & Ag3                  & HW3                 \\\\\n",
       "\t22 & 54                   & Private              & 302146               & HS-grad              &  9                   & Not-Married          & Service              & Unmarried            & Black                & Female               & None                 & None                 & 20                   & United-States        & incLow               & 0.000000             & 0.000000             & Ag5                  & HW1                 \\\\\n",
       "\t23 & 35                   & Federal-Govt         &  76845               & Dropout              &  5                   & Married              & Blue-Collar          & Husband              & Black                & Male                 & None                 & None                 & 40                   & United-States        & incLow               & 0.000000             & 0.000000             & Ag3                  & HW2                 \\\\\n",
       "\t24 & 43                   & Private              & 117037               & Dropout              &  7                   & Married              & Blue-Collar          & Husband              & White                & Male                 & None                 & clHigh               & 40                   & United-States        & incLow               & 0.000000             & 7.622175             & Ag4                  & HW2                 \\\\\n",
       "\t25 & 59                   & Private              & 109015               & HS-grad              &  9                   & Not-Married          & Other-occups         & Unmarried            & White                & Female               & None                 & None                 & 40                   & United-States        & incLow               & 0.000000             & 0.000000             & Ag5                  & HW2                 \\\\\n",
       "\t26 & 56                   & Other-Govt           & 216851               & Bachelors            & 13                   & Married              & Other-occups         & Husband              & White                & Male                 & None                 & None                 & 40                   & United-States        & incHigh              & 0.000000             & 0.000000             & Ag5                  & HW2                 \\\\\n",
       "\t27 & 19                   & Private              & 168294               & HS-grad              &  9                   & Never-Married        & Blue-Collar          & Own-child            & White                & Male                 & None                 & None                 & 40                   & United-States        & incLow               & 0.000000             & 0.000000             & Ag1                  & HW2                 \\\\\n",
       "\t29 & 39                   & Private              & 367260               & HS-grad              &  9                   & Not-Married          & White-Collar         & Not-in-family        & White                & Male                 & None                 & None                 & 80                   & United-States        & incLow               & 0.000000             & 0.000000             & Ag3                  & HW3                 \\\\\n",
       "\t30 & 49                   & Private              & 193366               & HS-grad              &  9                   & Married              & Blue-Collar          & Husband              & White                & Male                 & None                 & None                 & 40                   & United-States        & incLow               & 0.000000             & 0.000000             & Ag4                  & HW2                 \\\\\n",
       "\t31 & 23                   & Other-Govt           & 190709               & Associates           & 12                   & Never-Married        & Other-occups         & Not-in-family        & White                & Male                 & None                 & None                 & 52                   & United-States        & incLow               & 0.000000             & 0.000000             & Ag1                  & HW3                 \\\\\n",
       "\t32 & 20                   & Private              & 266015               & HS-Graduate          & 10                   & Never-Married        & Sales                & Own-child            & Black                & Male                 & None                 & None                 & 44                   & United-States        & incLow               & 0.000000             & 0.000000             & Ag1                  & HW3                 \\\\\n",
       "\t⋮ & ⋮ & ⋮ & ⋮ & ⋮ & ⋮ & ⋮ & ⋮ & ⋮ & ⋮ & ⋮ & ⋮ & ⋮ & ⋮ & ⋮ & ⋮ & ⋮ & ⋮ & ⋮ & ⋮\\\\\n",
       "\t32527 & 32             & Private        & 211349         & Dropout        &  6             & Married        & Blue-Collar    & Husband        & White          & Male           & None           & None           & 40             & United-States  & incLow         & 0.000000       & 0              & Ag2            & HW2           \\\\\n",
       "\t32528 & 22             & Private        & 203715         & HS-Graduate    & 10             & Never-Married  & Admin          & Own-child      & White          & Male           & None           & None           & 40             & United-States  & incLow         & 0.000000       & 0              & Ag1            & HW2           \\\\\n",
       "\t32529 & 31             & Private        & 292592         & HS-grad        &  9             & Married        & Blue-Collar    & Wife           & White          & Female         & None           & None           & 40             & United-States  & incLow         & 0.000000       & 0              & Ag2            & HW2           \\\\\n",
       "\t32530 & 29             & Private        & 125976         & HS-grad        &  9             & Not-Married    & Sales          & Unmarried      & White          & Female         & None           & None           & 35             & United-States  & incLow         & 0.000000       & 0              & Ag2            & HW1           \\\\\n",
       "\t32533 & 34             & Private        & 204461         & Doctorate      & 16             & Married        & Professional   & Husband        & White          & Male           & None           & None           & 60             & United-States  & incHigh        & 0.000000       & 0              & Ag3            & HW3           \\\\\n",
       "\t32534 & 54             & Private        & 337992         & Bachelors      & 13             & Married        & White-Collar   & Husband        & Asian          & Male           & None           & None           & 50             & Other          & incHigh        & 0.000000       & 0              & Ag5            & HW3           \\\\\n",
       "\t32535 & 37             & Private        & 179137         & HS-Graduate    & 10             & Not-Married    & Admin          & Unmarried      & White          & Female         & None           & None           & 39             & United-States  & incLow         & 0.000000       & 0              & Ag3            & HW1           \\\\\n",
       "\t32536 & 22             & Private        & 325033         & Dropout        &  8             & Never-Married  & Other-occups   & Own-child      & Black          & Male           & None           & None           & 35             & United-States  & incLow         & 0.000000       & 0              & Ag1            & HW1           \\\\\n",
       "\t32537 & 34             & Private        & 160216         & Bachelors      & 13             & Never-Married  & White-Collar   & Not-in-family  & White          & Female         & None           & None           & 55             & United-States  & incHigh        & 0.000000       & 0              & Ag3            & HW3           \\\\\n",
       "\t32538 & 30             & Private        & 345898         & HS-grad        &  9             & Never-Married  & Blue-Collar    & Not-in-family  & Black          & Male           & None           & None           & 46             & United-States  & incLow         & 0.000000       & 0              & Ag2            & HW3           \\\\\n",
       "\t32539 & 38             & Private        & 139180         & Bachelors      & 13             & Not-Married    & Professional   & Unmarried      & Black          & Female         & cgHigh         & None           & 45             & United-States  & incHigh        & 9.617205       & 0              & Ag3            & HW3           \\\\\n",
       "\t32541 & 45             & Other-Govt     & 252208         & HS-grad        &  9             & Not-Married    & Admin          & Own-child      & White          & Female         & None           & None           & 40             & United-States  & incLow         & 0.000000       & 0              & Ag4            & HW2           \\\\\n",
       "\t32544 & 45             & Other-Govt     & 119199         & Associates     & 12             & Not-Married    & Professional   & Unmarried      & White          & Female         & None           & None           & 48             & United-States  & incLow         & 0.000000       & 0              & Ag4            & HW3           \\\\\n",
       "\t32545 & 31             & Private        & 199655         & Masters        & 14             & Not-Married    & Service        & Not-in-family  & Other          & Female         & None           & None           & 30             & United-States  & incLow         & 0.000000       & 0              & Ag2            & HW1           \\\\\n",
       "\t32546 & 39             & Other-Govt     & 111499         & Associates     & 12             & Married        & Admin          & Wife           & White          & Female         & None           & None           & 20             & United-States  & incHigh        & 0.000000       & 0              & Ag3            & HW1           \\\\\n",
       "\t32547 & 37             & Private        & 198216         & Associates     & 12             & Not-Married    & Other-occups   & Not-in-family  & White          & Female         & None           & None           & 40             & United-States  & incLow         & 0.000000       & 0              & Ag3            & HW2           \\\\\n",
       "\t32548 & 43             & Private        & 260761         & HS-grad        &  9             & Married        & Blue-Collar    & Husband        & White          & Male           & None           & None           & 40             & Latin-America  & incLow         & 0.000000       & 0              & Ag4            & HW2           \\\\\n",
       "\t32549 & 65             & Self-Employed  &  99359         & Prof-School    & 15             & Never-Married  & Professional   & Not-in-family  & White          & Male           & cgLow          & None           & 60             & United-States  & incLow         & 6.991177       & 0              & Ag5            & HW3           \\\\\n",
       "\t32550 & 43             & Other-Govt     & 255835         & HS-Graduate    & 10             & Not-Married    & Admin          & Other-relative & White          & Female         & None           & None           & 40             & United-States  & incLow         & 0.000000       & 0              & Ag4            & HW2           \\\\\n",
       "\t32551 & 43             & Self-Employed  &  27242         & HS-Graduate    & 10             & Married        & Blue-Collar    & Husband        & White          & Male           & None           & None           & 50             & United-States  & incLow         & 0.000000       & 0              & Ag4            & HW3           \\\\\n",
       "\t32552 & 32             & Private        &  34066         & Dropout        &  6             & Married        & Blue-Collar    & Husband        & Amer-Indian    & Male           & None           & None           & 40             & United-States  & incLow         & 0.000000       & 0              & Ag2            & HW2           \\\\\n",
       "\t32553 & 43             & Private        &  84661         & Associates     & 11             & Married        & Sales          & Husband        & White          & Male           & None           & None           & 45             & United-States  & incLow         & 0.000000       & 0              & Ag4            & HW3           \\\\\n",
       "\t32554 & 32             & Private        & 116138         & Masters        & 14             & Never-Married  & Other-occups   & Not-in-family  & Asian          & Male           & None           & None           & 11             & China          & incLow         & 0.000000       & 0              & Ag2            & HW1           \\\\\n",
       "\t32555 & 53             & Private        & 321865         & Masters        & 14             & Married        & White-Collar   & Husband        & White          & Male           & None           & None           & 40             & United-States  & incHigh        & 0.000000       & 0              & Ag5            & HW2           \\\\\n",
       "\t32556 & 22             & Private        & 310152         & HS-Graduate    & 10             & Never-Married  & Other-occups   & Not-in-family  & White          & Male           & None           & None           & 40             & United-States  & incLow         & 0.000000       & 0              & Ag1            & HW2           \\\\\n",
       "\t32557 & 27             & Private        & 257302         & Associates     & 12             & Married        & Other-occups   & Wife           & White          & Female         & None           & None           & 38             & United-States  & incLow         & 0.000000       & 0              & Ag2            & HW1           \\\\\n",
       "\t32558 & 40             & Private        & 154374         & HS-grad        &  9             & Married        & Blue-Collar    & Husband        & White          & Male           & None           & None           & 40             & United-States  & incHigh        & 0.000000       & 0              & Ag3            & HW2           \\\\\n",
       "\t32559 & 58             & Private        & 151910         & HS-grad        &  9             & Widowed        & Admin          & Unmarried      & White          & Female         & None           & None           & 40             & United-States  & incLow         & 0.000000       & 0              & Ag5            & HW2           \\\\\n",
       "\t32560 & 22             & Private        & 201490         & HS-grad        &  9             & Never-Married  & Admin          & Own-child      & White          & Male           & None           & None           & 20             & United-States  & incLow         & 0.000000       & 0              & Ag1            & HW1           \\\\\n",
       "\t32561 & 52             & Self-Employed  & 287927         & HS-grad        &  9             & Married        & White-Collar   & Wife           & White          & Female         & cgHigh         & None           & 40             & United-States  & incHigh        & 9.617471       & 0              & Ag5            & HW2           \\\\\n",
       "\\end{tabular}\n"
      ],
      "text/markdown": [
       "\n",
       "| <!--/--> | age | workClass | fnlwgt | education | educNum | mariStat | occup | relationship | origEthn | sex | capitalGain | capitalLoss | hoursWeek | nativCountry | income | LcapitalGain | LcapitalLoss | ageQ | hoursWeekQ |\n",
       "|---|---|---|---|---|---|---|---|---|---|---|---|---|---|---|---|---|---|---|---|\n",
       "| 1 | 39                   | Other-Govt           |  77516               | Bachelors            | 13                   | Never-Married        | Admin                | Not-in-family        | White                | Male                 | cgLow                | None                 | 40                   | United-States        | incLow               | 7.684784             | 0.000000             | Ag3                  | HW2                  |\n",
       "| 2 | 50                   | Self-Employed        |  83311               | Bachelors            | 13                   | Married              | White-Collar         | Husband              | White                | Male                 | None                 | None                 | 13                   | United-States        | incLow               | 0.000000             | 0.000000             | Ag4                  | HW1                  |\n",
       "| 3 | 38                   | Private              | 215646               | HS-grad              |  9                   | Not-Married          | Blue-Collar          | Not-in-family        | White                | Male                 | None                 | None                 | 40                   | United-States        | incLow               | 0.000000             | 0.000000             | Ag3                  | HW2                  |\n",
       "| 4 | 53                   | Private              | 234721               | Dropout              |  7                   | Married              | Blue-Collar          | Husband              | Black                | Male                 | None                 | None                 | 40                   | United-States        | incLow               | 0.000000             | 0.000000             | Ag5                  | HW2                  |\n",
       "| 5 | 28                   | Private              | 338409               | Bachelors            | 13                   | Married              | Professional         | Wife                 | Black                | Female               | None                 | None                 | 40                   | Other                | incLow               | 0.000000             | 0.000000             | Ag2                  | HW2                  |\n",
       "| 6 | 37                   | Private              | 284582               | Masters              | 14                   | Married              | White-Collar         | Wife                 | White                | Female               | None                 | None                 | 40                   | United-States        | incLow               | 0.000000             | 0.000000             | Ag3                  | HW2                  |\n",
       "| 7 | 49                   | Private              | 160187               | Dropout              |  5                   | Not-Married          | Service              | Not-in-family        | Black                | Female               | None                 | None                 | 16                   | Latin-America        | incLow               | 0.000000             | 0.000000             | Ag4                  | HW1                  |\n",
       "| 8 | 52                   | Self-Employed        | 209642               | HS-grad              |  9                   | Married              | White-Collar         | Husband              | White                | Male                 | None                 | None                 | 45                   | United-States        | incHigh              | 0.000000             | 0.000000             | Ag5                  | HW3                  |\n",
       "| 9 | 31                   | Private              |  45781               | Masters              | 14                   | Never-Married        | Professional         | Not-in-family        | White                | Female               | cgHigh               | None                 | 50                   | United-States        | incHigh              | 9.552866             | 0.000000             | Ag2                  | HW3                  |\n",
       "| 10 | 42                   | Private              | 159449               | Bachelors            | 13                   | Married              | White-Collar         | Husband              | White                | Male                 | cgLow                | None                 | 40                   | United-States        | incHigh              | 8.552367             | 0.000000             | Ag4                  | HW2                  |\n",
       "| 11 | 37                   | Private              | 280464               | HS-Graduate          | 10                   | Married              | White-Collar         | Husband              | Black                | Male                 | None                 | None                 | 80                   | United-States        | incHigh              | 0.000000             | 0.000000             | Ag3                  | HW3                  |\n",
       "| 12 | 30                   | Other-Govt           | 141297               | Bachelors            | 13                   | Married              | Professional         | Husband              | Asian                | Male                 | None                 | None                 | 40                   | British-Commonwealth | incHigh              | 0.000000             | 0.000000             | Ag2                  | HW2                  |\n",
       "| 13 | 23                   | Private              | 122272               | Bachelors            | 13                   | Never-Married        | Admin                | Own-child            | White                | Female               | None                 | None                 | 30                   | United-States        | incLow               | 0.000000             | 0.000000             | Ag1                  | HW1                  |\n",
       "| 14 | 32                   | Private              | 205019               | Associates           | 12                   | Never-Married        | Sales                | Not-in-family        | Black                | Male                 | None                 | None                 | 50                   | United-States        | incLow               | 0.000000             | 0.000000             | Ag2                  | HW3                  |\n",
       "| 16 | 34                   | Private              | 245487               | Dropout              |  4                   | Married              | Blue-Collar          | Husband              | Amer-Indian          | Male                 | None                 | None                 | 45                   | Latin-America        | incLow               | 0.000000             | 0.000000             | Ag3                  | HW3                  |\n",
       "| 17 | 25                   | Self-Employed        | 176756               | HS-grad              |  9                   | Never-Married        | Blue-Collar          | Own-child            | White                | Male                 | None                 | None                 | 35                   | United-States        | incLow               | 0.000000             | 0.000000             | Ag1                  | HW1                  |\n",
       "| 18 | 32                   | Private              | 186824               | HS-grad              |  9                   | Never-Married        | Blue-Collar          | Unmarried            | White                | Male                 | None                 | None                 | 40                   | United-States        | incLow               | 0.000000             | 0.000000             | Ag2                  | HW2                  |\n",
       "| 19 | 38                   | Private              |  28887               | Dropout              |  7                   | Married              | Sales                | Husband              | White                | Male                 | None                 | None                 | 50                   | United-States        | incLow               | 0.000000             | 0.000000             | Ag3                  | HW3                  |\n",
       "| 20 | 43                   | Self-Employed        | 292175               | Masters              | 14                   | Not-Married          | White-Collar         | Unmarried            | White                | Female               | None                 | None                 | 45                   | United-States        | incHigh              | 0.000000             | 0.000000             | Ag4                  | HW3                  |\n",
       "| 21 | 40                   | Private              | 193524               | Doctorate            | 16                   | Married              | Professional         | Husband              | White                | Male                 | None                 | None                 | 60                   | United-States        | incHigh              | 0.000000             | 0.000000             | Ag3                  | HW3                  |\n",
       "| 22 | 54                   | Private              | 302146               | HS-grad              |  9                   | Not-Married          | Service              | Unmarried            | Black                | Female               | None                 | None                 | 20                   | United-States        | incLow               | 0.000000             | 0.000000             | Ag5                  | HW1                  |\n",
       "| 23 | 35                   | Federal-Govt         |  76845               | Dropout              |  5                   | Married              | Blue-Collar          | Husband              | Black                | Male                 | None                 | None                 | 40                   | United-States        | incLow               | 0.000000             | 0.000000             | Ag3                  | HW2                  |\n",
       "| 24 | 43                   | Private              | 117037               | Dropout              |  7                   | Married              | Blue-Collar          | Husband              | White                | Male                 | None                 | clHigh               | 40                   | United-States        | incLow               | 0.000000             | 7.622175             | Ag4                  | HW2                  |\n",
       "| 25 | 59                   | Private              | 109015               | HS-grad              |  9                   | Not-Married          | Other-occups         | Unmarried            | White                | Female               | None                 | None                 | 40                   | United-States        | incLow               | 0.000000             | 0.000000             | Ag5                  | HW2                  |\n",
       "| 26 | 56                   | Other-Govt           | 216851               | Bachelors            | 13                   | Married              | Other-occups         | Husband              | White                | Male                 | None                 | None                 | 40                   | United-States        | incHigh              | 0.000000             | 0.000000             | Ag5                  | HW2                  |\n",
       "| 27 | 19                   | Private              | 168294               | HS-grad              |  9                   | Never-Married        | Blue-Collar          | Own-child            | White                | Male                 | None                 | None                 | 40                   | United-States        | incLow               | 0.000000             | 0.000000             | Ag1                  | HW2                  |\n",
       "| 29 | 39                   | Private              | 367260               | HS-grad              |  9                   | Not-Married          | White-Collar         | Not-in-family        | White                | Male                 | None                 | None                 | 80                   | United-States        | incLow               | 0.000000             | 0.000000             | Ag3                  | HW3                  |\n",
       "| 30 | 49                   | Private              | 193366               | HS-grad              |  9                   | Married              | Blue-Collar          | Husband              | White                | Male                 | None                 | None                 | 40                   | United-States        | incLow               | 0.000000             | 0.000000             | Ag4                  | HW2                  |\n",
       "| 31 | 23                   | Other-Govt           | 190709               | Associates           | 12                   | Never-Married        | Other-occups         | Not-in-family        | White                | Male                 | None                 | None                 | 52                   | United-States        | incLow               | 0.000000             | 0.000000             | Ag1                  | HW3                  |\n",
       "| 32 | 20                   | Private              | 266015               | HS-Graduate          | 10                   | Never-Married        | Sales                | Own-child            | Black                | Male                 | None                 | None                 | 44                   | United-States        | incLow               | 0.000000             | 0.000000             | Ag1                  | HW3                  |\n",
       "| ⋮ | ⋮ | ⋮ | ⋮ | ⋮ | ⋮ | ⋮ | ⋮ | ⋮ | ⋮ | ⋮ | ⋮ | ⋮ | ⋮ | ⋮ | ⋮ | ⋮ | ⋮ | ⋮ | ⋮ |\n",
       "| 32527 | 32             | Private        | 211349         | Dropout        |  6             | Married        | Blue-Collar    | Husband        | White          | Male           | None           | None           | 40             | United-States  | incLow         | 0.000000       | 0              | Ag2            | HW2            |\n",
       "| 32528 | 22             | Private        | 203715         | HS-Graduate    | 10             | Never-Married  | Admin          | Own-child      | White          | Male           | None           | None           | 40             | United-States  | incLow         | 0.000000       | 0              | Ag1            | HW2            |\n",
       "| 32529 | 31             | Private        | 292592         | HS-grad        |  9             | Married        | Blue-Collar    | Wife           | White          | Female         | None           | None           | 40             | United-States  | incLow         | 0.000000       | 0              | Ag2            | HW2            |\n",
       "| 32530 | 29             | Private        | 125976         | HS-grad        |  9             | Not-Married    | Sales          | Unmarried      | White          | Female         | None           | None           | 35             | United-States  | incLow         | 0.000000       | 0              | Ag2            | HW1            |\n",
       "| 32533 | 34             | Private        | 204461         | Doctorate      | 16             | Married        | Professional   | Husband        | White          | Male           | None           | None           | 60             | United-States  | incHigh        | 0.000000       | 0              | Ag3            | HW3            |\n",
       "| 32534 | 54             | Private        | 337992         | Bachelors      | 13             | Married        | White-Collar   | Husband        | Asian          | Male           | None           | None           | 50             | Other          | incHigh        | 0.000000       | 0              | Ag5            | HW3            |\n",
       "| 32535 | 37             | Private        | 179137         | HS-Graduate    | 10             | Not-Married    | Admin          | Unmarried      | White          | Female         | None           | None           | 39             | United-States  | incLow         | 0.000000       | 0              | Ag3            | HW1            |\n",
       "| 32536 | 22             | Private        | 325033         | Dropout        |  8             | Never-Married  | Other-occups   | Own-child      | Black          | Male           | None           | None           | 35             | United-States  | incLow         | 0.000000       | 0              | Ag1            | HW1            |\n",
       "| 32537 | 34             | Private        | 160216         | Bachelors      | 13             | Never-Married  | White-Collar   | Not-in-family  | White          | Female         | None           | None           | 55             | United-States  | incHigh        | 0.000000       | 0              | Ag3            | HW3            |\n",
       "| 32538 | 30             | Private        | 345898         | HS-grad        |  9             | Never-Married  | Blue-Collar    | Not-in-family  | Black          | Male           | None           | None           | 46             | United-States  | incLow         | 0.000000       | 0              | Ag2            | HW3            |\n",
       "| 32539 | 38             | Private        | 139180         | Bachelors      | 13             | Not-Married    | Professional   | Unmarried      | Black          | Female         | cgHigh         | None           | 45             | United-States  | incHigh        | 9.617205       | 0              | Ag3            | HW3            |\n",
       "| 32541 | 45             | Other-Govt     | 252208         | HS-grad        |  9             | Not-Married    | Admin          | Own-child      | White          | Female         | None           | None           | 40             | United-States  | incLow         | 0.000000       | 0              | Ag4            | HW2            |\n",
       "| 32544 | 45             | Other-Govt     | 119199         | Associates     | 12             | Not-Married    | Professional   | Unmarried      | White          | Female         | None           | None           | 48             | United-States  | incLow         | 0.000000       | 0              | Ag4            | HW3            |\n",
       "| 32545 | 31             | Private        | 199655         | Masters        | 14             | Not-Married    | Service        | Not-in-family  | Other          | Female         | None           | None           | 30             | United-States  | incLow         | 0.000000       | 0              | Ag2            | HW1            |\n",
       "| 32546 | 39             | Other-Govt     | 111499         | Associates     | 12             | Married        | Admin          | Wife           | White          | Female         | None           | None           | 20             | United-States  | incHigh        | 0.000000       | 0              | Ag3            | HW1            |\n",
       "| 32547 | 37             | Private        | 198216         | Associates     | 12             | Not-Married    | Other-occups   | Not-in-family  | White          | Female         | None           | None           | 40             | United-States  | incLow         | 0.000000       | 0              | Ag3            | HW2            |\n",
       "| 32548 | 43             | Private        | 260761         | HS-grad        |  9             | Married        | Blue-Collar    | Husband        | White          | Male           | None           | None           | 40             | Latin-America  | incLow         | 0.000000       | 0              | Ag4            | HW2            |\n",
       "| 32549 | 65             | Self-Employed  |  99359         | Prof-School    | 15             | Never-Married  | Professional   | Not-in-family  | White          | Male           | cgLow          | None           | 60             | United-States  | incLow         | 6.991177       | 0              | Ag5            | HW3            |\n",
       "| 32550 | 43             | Other-Govt     | 255835         | HS-Graduate    | 10             | Not-Married    | Admin          | Other-relative | White          | Female         | None           | None           | 40             | United-States  | incLow         | 0.000000       | 0              | Ag4            | HW2            |\n",
       "| 32551 | 43             | Self-Employed  |  27242         | HS-Graduate    | 10             | Married        | Blue-Collar    | Husband        | White          | Male           | None           | None           | 50             | United-States  | incLow         | 0.000000       | 0              | Ag4            | HW3            |\n",
       "| 32552 | 32             | Private        |  34066         | Dropout        |  6             | Married        | Blue-Collar    | Husband        | Amer-Indian    | Male           | None           | None           | 40             | United-States  | incLow         | 0.000000       | 0              | Ag2            | HW2            |\n",
       "| 32553 | 43             | Private        |  84661         | Associates     | 11             | Married        | Sales          | Husband        | White          | Male           | None           | None           | 45             | United-States  | incLow         | 0.000000       | 0              | Ag4            | HW3            |\n",
       "| 32554 | 32             | Private        | 116138         | Masters        | 14             | Never-Married  | Other-occups   | Not-in-family  | Asian          | Male           | None           | None           | 11             | China          | incLow         | 0.000000       | 0              | Ag2            | HW1            |\n",
       "| 32555 | 53             | Private        | 321865         | Masters        | 14             | Married        | White-Collar   | Husband        | White          | Male           | None           | None           | 40             | United-States  | incHigh        | 0.000000       | 0              | Ag5            | HW2            |\n",
       "| 32556 | 22             | Private        | 310152         | HS-Graduate    | 10             | Never-Married  | Other-occups   | Not-in-family  | White          | Male           | None           | None           | 40             | United-States  | incLow         | 0.000000       | 0              | Ag1            | HW2            |\n",
       "| 32557 | 27             | Private        | 257302         | Associates     | 12             | Married        | Other-occups   | Wife           | White          | Female         | None           | None           | 38             | United-States  | incLow         | 0.000000       | 0              | Ag2            | HW1            |\n",
       "| 32558 | 40             | Private        | 154374         | HS-grad        |  9             | Married        | Blue-Collar    | Husband        | White          | Male           | None           | None           | 40             | United-States  | incHigh        | 0.000000       | 0              | Ag3            | HW2            |\n",
       "| 32559 | 58             | Private        | 151910         | HS-grad        |  9             | Widowed        | Admin          | Unmarried      | White          | Female         | None           | None           | 40             | United-States  | incLow         | 0.000000       | 0              | Ag5            | HW2            |\n",
       "| 32560 | 22             | Private        | 201490         | HS-grad        |  9             | Never-Married  | Admin          | Own-child      | White          | Male           | None           | None           | 20             | United-States  | incLow         | 0.000000       | 0              | Ag1            | HW1            |\n",
       "| 32561 | 52             | Self-Employed  | 287927         | HS-grad        |  9             | Married        | White-Collar   | Wife           | White          | Female         | cgHigh         | None           | 40             | United-States  | incHigh        | 9.617471       | 0              | Ag5            | HW2            |\n",
       "\n"
      ],
      "text/plain": [
       "      age workClass     fnlwgt education   educNum mariStat      occup       \n",
       "1     39  Other-Govt     77516 Bachelors   13      Never-Married Admin       \n",
       "2     50  Self-Employed  83311 Bachelors   13      Married       White-Collar\n",
       "3     38  Private       215646 HS-grad      9      Not-Married   Blue-Collar \n",
       "4     53  Private       234721 Dropout      7      Married       Blue-Collar \n",
       "5     28  Private       338409 Bachelors   13      Married       Professional\n",
       "6     37  Private       284582 Masters     14      Married       White-Collar\n",
       "7     49  Private       160187 Dropout      5      Not-Married   Service     \n",
       "8     52  Self-Employed 209642 HS-grad      9      Married       White-Collar\n",
       "9     31  Private        45781 Masters     14      Never-Married Professional\n",
       "10    42  Private       159449 Bachelors   13      Married       White-Collar\n",
       "11    37  Private       280464 HS-Graduate 10      Married       White-Collar\n",
       "12    30  Other-Govt    141297 Bachelors   13      Married       Professional\n",
       "13    23  Private       122272 Bachelors   13      Never-Married Admin       \n",
       "14    32  Private       205019 Associates  12      Never-Married Sales       \n",
       "16    34  Private       245487 Dropout      4      Married       Blue-Collar \n",
       "17    25  Self-Employed 176756 HS-grad      9      Never-Married Blue-Collar \n",
       "18    32  Private       186824 HS-grad      9      Never-Married Blue-Collar \n",
       "19    38  Private        28887 Dropout      7      Married       Sales       \n",
       "20    43  Self-Employed 292175 Masters     14      Not-Married   White-Collar\n",
       "21    40  Private       193524 Doctorate   16      Married       Professional\n",
       "22    54  Private       302146 HS-grad      9      Not-Married   Service     \n",
       "23    35  Federal-Govt   76845 Dropout      5      Married       Blue-Collar \n",
       "24    43  Private       117037 Dropout      7      Married       Blue-Collar \n",
       "25    59  Private       109015 HS-grad      9      Not-Married   Other-occups\n",
       "26    56  Other-Govt    216851 Bachelors   13      Married       Other-occups\n",
       "27    19  Private       168294 HS-grad      9      Never-Married Blue-Collar \n",
       "29    39  Private       367260 HS-grad      9      Not-Married   White-Collar\n",
       "30    49  Private       193366 HS-grad      9      Married       Blue-Collar \n",
       "31    23  Other-Govt    190709 Associates  12      Never-Married Other-occups\n",
       "32    20  Private       266015 HS-Graduate 10      Never-Married Sales       \n",
       "⋮     ⋮   ⋮             ⋮      ⋮           ⋮       ⋮             ⋮           \n",
       "32527 32  Private       211349 Dropout      6      Married       Blue-Collar \n",
       "32528 22  Private       203715 HS-Graduate 10      Never-Married Admin       \n",
       "32529 31  Private       292592 HS-grad      9      Married       Blue-Collar \n",
       "32530 29  Private       125976 HS-grad      9      Not-Married   Sales       \n",
       "32533 34  Private       204461 Doctorate   16      Married       Professional\n",
       "32534 54  Private       337992 Bachelors   13      Married       White-Collar\n",
       "32535 37  Private       179137 HS-Graduate 10      Not-Married   Admin       \n",
       "32536 22  Private       325033 Dropout      8      Never-Married Other-occups\n",
       "32537 34  Private       160216 Bachelors   13      Never-Married White-Collar\n",
       "32538 30  Private       345898 HS-grad      9      Never-Married Blue-Collar \n",
       "32539 38  Private       139180 Bachelors   13      Not-Married   Professional\n",
       "32541 45  Other-Govt    252208 HS-grad      9      Not-Married   Admin       \n",
       "32544 45  Other-Govt    119199 Associates  12      Not-Married   Professional\n",
       "32545 31  Private       199655 Masters     14      Not-Married   Service     \n",
       "32546 39  Other-Govt    111499 Associates  12      Married       Admin       \n",
       "32547 37  Private       198216 Associates  12      Not-Married   Other-occups\n",
       "32548 43  Private       260761 HS-grad      9      Married       Blue-Collar \n",
       "32549 65  Self-Employed  99359 Prof-School 15      Never-Married Professional\n",
       "32550 43  Other-Govt    255835 HS-Graduate 10      Not-Married   Admin       \n",
       "32551 43  Self-Employed  27242 HS-Graduate 10      Married       Blue-Collar \n",
       "32552 32  Private        34066 Dropout      6      Married       Blue-Collar \n",
       "32553 43  Private        84661 Associates  11      Married       Sales       \n",
       "32554 32  Private       116138 Masters     14      Never-Married Other-occups\n",
       "32555 53  Private       321865 Masters     14      Married       White-Collar\n",
       "32556 22  Private       310152 HS-Graduate 10      Never-Married Other-occups\n",
       "32557 27  Private       257302 Associates  12      Married       Other-occups\n",
       "32558 40  Private       154374 HS-grad      9      Married       Blue-Collar \n",
       "32559 58  Private       151910 HS-grad      9      Widowed       Admin       \n",
       "32560 22  Private       201490 HS-grad      9      Never-Married Admin       \n",
       "32561 52  Self-Employed 287927 HS-grad      9      Married       White-Collar\n",
       "      relationship   origEthn    sex    capitalGain capitalLoss hoursWeek\n",
       "1     Not-in-family  White       Male   cgLow       None        40       \n",
       "2     Husband        White       Male   None        None        13       \n",
       "3     Not-in-family  White       Male   None        None        40       \n",
       "4     Husband        Black       Male   None        None        40       \n",
       "5     Wife           Black       Female None        None        40       \n",
       "6     Wife           White       Female None        None        40       \n",
       "7     Not-in-family  Black       Female None        None        16       \n",
       "8     Husband        White       Male   None        None        45       \n",
       "9     Not-in-family  White       Female cgHigh      None        50       \n",
       "10    Husband        White       Male   cgLow       None        40       \n",
       "11    Husband        Black       Male   None        None        80       \n",
       "12    Husband        Asian       Male   None        None        40       \n",
       "13    Own-child      White       Female None        None        30       \n",
       "14    Not-in-family  Black       Male   None        None        50       \n",
       "16    Husband        Amer-Indian Male   None        None        45       \n",
       "17    Own-child      White       Male   None        None        35       \n",
       "18    Unmarried      White       Male   None        None        40       \n",
       "19    Husband        White       Male   None        None        50       \n",
       "20    Unmarried      White       Female None        None        45       \n",
       "21    Husband        White       Male   None        None        60       \n",
       "22    Unmarried      Black       Female None        None        20       \n",
       "23    Husband        Black       Male   None        None        40       \n",
       "24    Husband        White       Male   None        clHigh      40       \n",
       "25    Unmarried      White       Female None        None        40       \n",
       "26    Husband        White       Male   None        None        40       \n",
       "27    Own-child      White       Male   None        None        40       \n",
       "29    Not-in-family  White       Male   None        None        80       \n",
       "30    Husband        White       Male   None        None        40       \n",
       "31    Not-in-family  White       Male   None        None        52       \n",
       "32    Own-child      Black       Male   None        None        44       \n",
       "⋮     ⋮              ⋮           ⋮      ⋮           ⋮           ⋮        \n",
       "32527 Husband        White       Male   None        None        40       \n",
       "32528 Own-child      White       Male   None        None        40       \n",
       "32529 Wife           White       Female None        None        40       \n",
       "32530 Unmarried      White       Female None        None        35       \n",
       "32533 Husband        White       Male   None        None        60       \n",
       "32534 Husband        Asian       Male   None        None        50       \n",
       "32535 Unmarried      White       Female None        None        39       \n",
       "32536 Own-child      Black       Male   None        None        35       \n",
       "32537 Not-in-family  White       Female None        None        55       \n",
       "32538 Not-in-family  Black       Male   None        None        46       \n",
       "32539 Unmarried      Black       Female cgHigh      None        45       \n",
       "32541 Own-child      White       Female None        None        40       \n",
       "32544 Unmarried      White       Female None        None        48       \n",
       "32545 Not-in-family  Other       Female None        None        30       \n",
       "32546 Wife           White       Female None        None        20       \n",
       "32547 Not-in-family  White       Female None        None        40       \n",
       "32548 Husband        White       Male   None        None        40       \n",
       "32549 Not-in-family  White       Male   cgLow       None        60       \n",
       "32550 Other-relative White       Female None        None        40       \n",
       "32551 Husband        White       Male   None        None        50       \n",
       "32552 Husband        Amer-Indian Male   None        None        40       \n",
       "32553 Husband        White       Male   None        None        45       \n",
       "32554 Not-in-family  Asian       Male   None        None        11       \n",
       "32555 Husband        White       Male   None        None        40       \n",
       "32556 Not-in-family  White       Male   None        None        40       \n",
       "32557 Wife           White       Female None        None        38       \n",
       "32558 Husband        White       Male   None        None        40       \n",
       "32559 Unmarried      White       Female None        None        40       \n",
       "32560 Own-child      White       Male   None        None        20       \n",
       "32561 Wife           White       Female cgHigh      None        40       \n",
       "      nativCountry         income  LcapitalGain LcapitalLoss ageQ hoursWeekQ\n",
       "1     United-States        incLow  7.684784     0.000000     Ag3  HW2       \n",
       "2     United-States        incLow  0.000000     0.000000     Ag4  HW1       \n",
       "3     United-States        incLow  0.000000     0.000000     Ag3  HW2       \n",
       "4     United-States        incLow  0.000000     0.000000     Ag5  HW2       \n",
       "5     Other                incLow  0.000000     0.000000     Ag2  HW2       \n",
       "6     United-States        incLow  0.000000     0.000000     Ag3  HW2       \n",
       "7     Latin-America        incLow  0.000000     0.000000     Ag4  HW1       \n",
       "8     United-States        incHigh 0.000000     0.000000     Ag5  HW3       \n",
       "9     United-States        incHigh 9.552866     0.000000     Ag2  HW3       \n",
       "10    United-States        incHigh 8.552367     0.000000     Ag4  HW2       \n",
       "11    United-States        incHigh 0.000000     0.000000     Ag3  HW3       \n",
       "12    British-Commonwealth incHigh 0.000000     0.000000     Ag2  HW2       \n",
       "13    United-States        incLow  0.000000     0.000000     Ag1  HW1       \n",
       "14    United-States        incLow  0.000000     0.000000     Ag2  HW3       \n",
       "16    Latin-America        incLow  0.000000     0.000000     Ag3  HW3       \n",
       "17    United-States        incLow  0.000000     0.000000     Ag1  HW1       \n",
       "18    United-States        incLow  0.000000     0.000000     Ag2  HW2       \n",
       "19    United-States        incLow  0.000000     0.000000     Ag3  HW3       \n",
       "20    United-States        incHigh 0.000000     0.000000     Ag4  HW3       \n",
       "21    United-States        incHigh 0.000000     0.000000     Ag3  HW3       \n",
       "22    United-States        incLow  0.000000     0.000000     Ag5  HW1       \n",
       "23    United-States        incLow  0.000000     0.000000     Ag3  HW2       \n",
       "24    United-States        incLow  0.000000     7.622175     Ag4  HW2       \n",
       "25    United-States        incLow  0.000000     0.000000     Ag5  HW2       \n",
       "26    United-States        incHigh 0.000000     0.000000     Ag5  HW2       \n",
       "27    United-States        incLow  0.000000     0.000000     Ag1  HW2       \n",
       "29    United-States        incLow  0.000000     0.000000     Ag3  HW3       \n",
       "30    United-States        incLow  0.000000     0.000000     Ag4  HW2       \n",
       "31    United-States        incLow  0.000000     0.000000     Ag1  HW3       \n",
       "32    United-States        incLow  0.000000     0.000000     Ag1  HW3       \n",
       "⋮     ⋮                    ⋮       ⋮            ⋮            ⋮    ⋮         \n",
       "32527 United-States        incLow  0.000000     0            Ag2  HW2       \n",
       "32528 United-States        incLow  0.000000     0            Ag1  HW2       \n",
       "32529 United-States        incLow  0.000000     0            Ag2  HW2       \n",
       "32530 United-States        incLow  0.000000     0            Ag2  HW1       \n",
       "32533 United-States        incHigh 0.000000     0            Ag3  HW3       \n",
       "32534 Other                incHigh 0.000000     0            Ag5  HW3       \n",
       "32535 United-States        incLow  0.000000     0            Ag3  HW1       \n",
       "32536 United-States        incLow  0.000000     0            Ag1  HW1       \n",
       "32537 United-States        incHigh 0.000000     0            Ag3  HW3       \n",
       "32538 United-States        incLow  0.000000     0            Ag2  HW3       \n",
       "32539 United-States        incHigh 9.617205     0            Ag3  HW3       \n",
       "32541 United-States        incLow  0.000000     0            Ag4  HW2       \n",
       "32544 United-States        incLow  0.000000     0            Ag4  HW3       \n",
       "32545 United-States        incLow  0.000000     0            Ag2  HW1       \n",
       "32546 United-States        incHigh 0.000000     0            Ag3  HW1       \n",
       "32547 United-States        incLow  0.000000     0            Ag3  HW2       \n",
       "32548 Latin-America        incLow  0.000000     0            Ag4  HW2       \n",
       "32549 United-States        incLow  6.991177     0            Ag5  HW3       \n",
       "32550 United-States        incLow  0.000000     0            Ag4  HW2       \n",
       "32551 United-States        incLow  0.000000     0            Ag4  HW3       \n",
       "32552 United-States        incLow  0.000000     0            Ag2  HW2       \n",
       "32553 United-States        incLow  0.000000     0            Ag4  HW3       \n",
       "32554 China                incLow  0.000000     0            Ag2  HW1       \n",
       "32555 United-States        incHigh 0.000000     0            Ag5  HW2       \n",
       "32556 United-States        incLow  0.000000     0            Ag1  HW2       \n",
       "32557 United-States        incLow  0.000000     0            Ag2  HW1       \n",
       "32558 United-States        incHigh 0.000000     0            Ag3  HW2       \n",
       "32559 United-States        incLow  0.000000     0            Ag5  HW2       \n",
       "32560 United-States        incLow  0.000000     0            Ag1  HW1       \n",
       "32561 United-States        incHigh 9.617471     0            Ag5  HW2       "
      ]
     },
     "metadata": {},
     "output_type": "display_data"
    }
   ],
   "source": [
    "# Chemin pour charger au moment de l'exécution:\n",
    "# path=\"http://www.math.univ-toulouse.fr/~besse/Wikistat/programmes/\"\n",
    "path=\"\"\n",
    "source(paste(path,\"dataPrepAdultCensus.R\",sep=\"\"))\n",
    "summary(dataBase)\n",
    "dataBase"
   ]
  },
  {
   "cell_type": "markdown",
   "metadata": {},
   "source": [
    "## 2 Description\n",
    "**Q** Quelle est la population étudiée ? Quel est l’échantillon ?\n",
    "\n",
    "**Q** Commenter, justifier les différentes transformations opérées. Repérer les variables quantitatives, qualitatives. Certaines (`age`, `hoursWeek`) sont présentes sous les deux types. Beaucoup de modalités on déjà été regroupées, notamment celles de `nativCountry` (voir le programme) certaines variables sont rendues qualitatives (`capitalLoss` ou `Gain`)."
   ]
  },
  {
   "cell_type": "code",
   "execution_count": null,
   "metadata": {},
   "outputs": [],
   "source": [
    "# dimensions des graphiques\n",
    "options(repr.plot.width=4, repr.plot.height=4)\n",
    "hist(dataBase[,\"LcapitalGain\"],probability=T, main=\"\",xlab=\"log(1+CapitalGain)\")\n",
    "boxplot(dataBase[,\"LcapitalGain\"], horizontal=TRUE,boxwex=.2,  outline=TRUE,  \n",
    "        frame=F, col = \"lightgrey\", add = TRUE,at=0.2)"
   ]
  },
  {
   "cell_type": "markdown",
   "metadata": {},
   "source": [
    "**Q** Quels sont ces graphiques? Que dire de la transformation  opérée ? La variable CapitalLoss subit le même traitement."
   ]
  },
  {
   "cell_type": "markdown",
   "metadata": {},
   "source": [
    "Certains couples de variables posent des problèmes. "
   ]
  },
  {
   "cell_type": "code",
   "execution_count": null,
   "metadata": {},
   "outputs": [],
   "source": [
    "table(dataBase$relationship,dataBase$sex)     "
   ]
  },
  {
   "cell_type": "code",
   "execution_count": null,
   "metadata": {},
   "outputs": [],
   "source": [
    "table(dataBase$education,dataBase$educNum)  "
   ]
  },
  {
   "cell_type": "code",
   "execution_count": null,
   "metadata": {},
   "outputs": [],
   "source": [
    "table(dataBase$mariStat,dataBase$relationship)"
   ]
  },
  {
   "cell_type": "code",
   "execution_count": null,
   "metadata": {},
   "outputs": [],
   "source": [
    "table(dataBase$origEthn,dataBase$nativCountry)"
   ]
  },
  {
   "cell_type": "markdown",
   "metadata": {},
   "source": [
    "**Q** Quel est ce problème général ? Qu’est-ce qui va se passer si on en calcule l’analyse des correspondances ? Quel est le problème plus spécifique des variables `relationship` et `sex`?"
   ]
  },
  {
   "cell_type": "code",
   "execution_count": null,
   "metadata": {},
   "outputs": [],
   "source": [
    "mosaicplot(table(dataBase[,\"sex\"],dataBase[,\"occup\"]),main=\"\")"
   ]
  },
  {
   "cell_type": "markdown",
   "metadata": {},
   "source": [
    "**Q** Quel graphique ci-dessus?  Quelle interprétation ? Quel est le test ci-dessous ? Que doit vérifier la table pour que ce test soit valide ? Quelle est l’hypothèse H0 testée ? Conclusion."
   ]
  },
  {
   "cell_type": "code",
   "execution_count": null,
   "metadata": {},
   "outputs": [],
   "source": [
    "chisq.test(table(dataBase[,\"sex\"],dataBase[,\"occup\"]))"
   ]
  },
  {
   "cell_type": "markdown",
   "metadata": {},
   "source": [
    "**Q** Quel est le graphique ci-dessous? Comment interpréter? Quel test permettrait de confirmer ? Que dire de l’intérêt de cette variable [fnlwgt](http://web.cs.wpi.edu/~cs4341/C00/Projects/fnlwgt) (Final sampling weight)?"
   ]
  },
  {
   "cell_type": "code",
   "execution_count": null,
   "metadata": {},
   "outputs": [],
   "source": [
    "boxplot(fnlwgt~income,data=dataBase,xaxis=\"Income\",yaxis=\"fnlwgt\")"
   ]
  },
  {
   "cell_type": "markdown",
   "metadata": {},
   "source": [
    "**Q** Que dire dans la figure ci-dessous de la liaison entre les variables `educNum` et `age` et de la localisation des points noirs (>50k€) par rapport aux rouges (<50k€)."
   ]
  },
  {
   "cell_type": "code",
   "execution_count": null,
   "metadata": {},
   "outputs": [],
   "source": [
    "plot(dataBase[,\"age\"],dataBase[,\"educNum\"],col=as.integer(dataBase[,\"income\"]),pch=16,cex=0.5)"
   ]
  },
  {
   "cell_type": "markdown",
   "metadata": {},
   "source": [
    "## 3 [Analyse en composantes principales](http://wikistat.fr/pdf/st-m-explo-acp.pdf)\n",
    "**Q** Que représente la figure ci-dessous? "
   ]
  },
  {
   "cell_type": "code",
   "execution_count": null,
   "metadata": {},
   "outputs": [],
   "source": [
    "nrow(as.vector(table(dataBase[,\"age\"],dataBase[,\"educNum\"])))\n"
   ]
  },
  {
   "cell_type": "markdown",
   "metadata": {},
   "source": [
    "**Q** Quelle est le graphe ci-dessous? Quel est le cercle?  A quoi sert-il ?"
   ]
  },
  {
   "cell_type": "code",
   "execution_count": null,
   "metadata": {},
   "outputs": [],
   "source": [
    "library(FactoMineR)\n",
    "pca=PCA(dataBase[,c(1,3,5,13,16,17)],scale.unit=T,graph=F)\n",
    "plot(pca, choix=\"var\")"
   ]
  },
  {
   "cell_type": "markdown",
   "metadata": {},
   "source": [
    "**Q** La représentation ci-dessous montre un artefact avec 3 paquets d’individus. A quoi est dû cet artéfact ? Est-il utile à la compréhension des données ? "
   ]
  },
  {
   "cell_type": "code",
   "execution_count": null,
   "metadata": {},
   "outputs": [],
   "source": [
    "acp=prcomp(dataBase[,c(1,3,5,13,16,17)],scale=T)\n",
    "biplot(acp)"
   ]
  },
  {
   "cell_type": "markdown",
   "metadata": {},
   "source": [
    "## 4 [Analyse factorielle des correspondances](http://wikistat.fr/pdf/st-m-explo-afc.pdf) de la table `occup` *vs.* `education`\n",
    "**Q** Que conclure du test ci-dessous sur l’intérêt d’une analyse des correspondances? Quelle est la table étudiée, ses dimensions?"
   ]
  },
  {
   "cell_type": "code",
   "execution_count": null,
   "metadata": {},
   "outputs": [],
   "source": [
    "chisq.test(table(dataBase[,4],dataBase[,7]))"
   ]
  },
  {
   "cell_type": "markdown",
   "metadata": {},
   "source": [
    "**Q** Quelles sont les ACPs considérées dans cette analyse des correspondances, avec quelles métriques?\n",
    "\n",
    "**Q** Quelle est la matrice diagonalisée? \n",
    "\n",
    "**Q** Quelle est la significaiton des valeurs (%) présentes dans les légendes?\n",
    "\n",
    "**Q** Donner en une ligne une signification à l’Axe 1.\n"
   ]
  },
  {
   "cell_type": "code",
   "execution_count": null,
   "metadata": {},
   "outputs": [],
   "source": [
    "options(repr.plot.width=6, repr.plot.height=6)\n",
    "coresp=CA(table(dataBase[,c(4,7)]))"
   ]
  },
  {
   "cell_type": "markdown",
   "metadata": {},
   "source": [
    "## 5 [Analyse factorielle multiple des correspondances](http://wikistat.fr/pdf/st-m-explo-afcm.pdf)\n",
    "**Q** La section 2 montre le peu d’intérêt de l’ACP. L’AFCM est donc utilisée. Quel prétraitement a été mis en œuvre pour y faire intervenir toutes les variables? Que faire des couples de variables posant problème (première section)?\n",
    "\n",
    "**Q** Combien d’axes est-il raisonnable de retenir selon la figure ci-dessous? "
   ]
  },
  {
   "cell_type": "code",
   "execution_count": null,
   "metadata": {},
   "outputs": [],
   "source": [
    "dataq=dataBase[,c(2,4,6,7,9,10,11,12,15,18,19)]\n",
    "afcm=MCA(dataq,graph=FALSE,quali.sup=c(9))\n",
    "plot(1:30,afcm$eig[1:30,1],type=\"h\")"
   ]
  },
  {
   "cell_type": "markdown",
   "metadata": {},
   "source": [
    "**Q** Comment interpréter les axes 1 et 2 ci-dessous? Que signifient les valeurs (%)?"
   ]
  },
  {
   "cell_type": "code",
   "execution_count": null,
   "metadata": {},
   "outputs": [],
   "source": [
    "options(repr.plot.width=6, repr.plot.height=6)\n",
    "plot.MCA(afcm,invisible=c(\"ind\"),habillage=\"quali\")"
   ]
  },
  {
   "cell_type": "markdown",
   "metadata": {},
   "source": [
    "**Q** A partir de quelle AFC et donc de quelle ACP, quelle SVD le graphe ci-dessous a-t-il été obtenu?  La discrimination des individus de revenus inférieurs ou supérieurs à 50k€ sera-t-elle aisée ?"
   ]
  },
  {
   "cell_type": "code",
   "execution_count": null,
   "metadata": {},
   "outputs": [],
   "source": [
    "plot(afcm$ind$coord,type=\"p\",pch=\".\",cex=2,col=as.integer(dataBase$income))"
   ]
  },
  {
   "cell_type": "markdown",
   "metadata": {},
   "source": [
    "## 6 [Classification non supervisée](http://wikistat.fr/pdf/st-m-explo-classif.pdf)\n",
    "**Q** Pourquoi la classification ascendante hiérarchique  des données précédentes ne marche-t-elle  pas sur un ordinateur portable  basique? Quelle stratégie faudrait-il mettre en œuvre?\n",
    "\n",
    "**Q** Les commandes suivantes sont plus simplement exécutées. Quelle astuce est mise en œuvre? Comment choisir le nombre de classes?"
   ]
  },
  {
   "cell_type": "code",
   "execution_count": null,
   "metadata": {},
   "outputs": [],
   "source": [
    "ind=sample(1:nrow(dataq),5000,replace=F)\n",
    "dist.ind=dist(afcm$ind$coord[ind,], method=\"euclidean\")\n",
    "hclusind=hclust(dist.ind,method=\"ward.D\")\n",
    "options(repr.plot.width=4, repr.plot.height=4)\n",
    "plot(sort(hclusind$height,decreasing=T)[1:15])\n",
    "Classe=kmeans(afcm$ind$coord, 5)$cluster"
   ]
  },
  {
   "cell_type": "markdown",
   "metadata": {},
   "source": [
    "Représentation des classes"
   ]
  },
  {
   "cell_type": "code",
   "execution_count": null,
   "metadata": {},
   "outputs": [],
   "source": [
    "classe=factor(as.factor(Classe),labels=c(\"C1\",\"C2\",\"C3\",\"C4\",\"C5\"))\n",
    "plot(afcm$ind$coord,type=\"p\",pch=\".\",cex=2,col=as.integer(classe))"
   ]
  },
  {
   "cell_type": "markdown",
   "metadata": {},
   "source": [
    "**Q** Expliquer comment les commandes ci-dessous permettent de construire une interprétation des classes. Interpréter ces classes."
   ]
  },
  {
   "cell_type": "code",
   "execution_count": null,
   "metadata": {},
   "outputs": [],
   "source": [
    "dataqw=data.frame(dataq,\"Classe\"=classe)\n",
    "afcm=MCA(dataqw,graph=FALSE,quali.sup=c(9))\n",
    "options(repr.plot.width=6, repr.plot.height=6)\n",
    "plot.MCA(afcm,invisible=c(\"ind\"),habillage=\"quali\")"
   ]
  }
 ],
 "metadata": {
  "kernelspec": {
   "display_name": "R",
   "language": "R",
   "name": "ir"
  },
  "language_info": {
   "codemirror_mode": "r",
   "file_extension": ".r",
   "mimetype": "text/x-r-source",
   "name": "R",
   "pygments_lexer": "r",
   "version": "3.4.4"
  }
 },
 "nbformat": 4,
 "nbformat_minor": 1
}
